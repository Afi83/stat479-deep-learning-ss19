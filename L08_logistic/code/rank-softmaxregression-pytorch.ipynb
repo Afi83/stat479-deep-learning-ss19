{
 "cells": [
  {
   "cell_type": "code",
   "execution_count": 1,
   "metadata": {},
   "outputs": [
    {
     "name": "stdout",
     "output_type": "stream",
     "text": [
      "Sebastian Raschka \n",
      "\n",
      "CPython 3.6.7\n",
      "IPython 6.5.0\n",
      "\n",
      "torch 0.4.1\n"
     ]
    }
   ],
   "source": [
    "%load_ext watermark\n",
    "%watermark -a 'Sebastian Raschka' -v -p torch"
   ]
  },
  {
   "cell_type": "markdown",
   "metadata": {},
   "source": [
    "- Runs on CPU or GPU (if available)"
   ]
  },
  {
   "cell_type": "markdown",
   "metadata": {},
   "source": [
    "# Rank Softmax Regression"
   ]
  },
  {
   "cell_type": "markdown",
   "metadata": {},
   "source": [
    "Implementation of rank softmax regression (multinomial logistic regression)."
   ]
  },
  {
   "cell_type": "code",
   "execution_count": 2,
   "metadata": {},
   "outputs": [],
   "source": [
    "def rank_cross_entropy(logits, targets, num_classes, reduction='elementwise_mean'):\n",
    "    smax = F.softmax(logits, dim=1)\n",
    "    \n",
    "    weights = torch.abs(targets - torch.argmax(logits, dim=1) + 1).float() / logits.shape[1]\n",
    "    expanded_targets = (torch.arange(num_classes) == targets[:, None]).float()\n",
    "    val = - torch.sum(torch.log(smax) * expanded_targets * weights[:, np.newaxis], dim=1)\n",
    "    if reduction == 'elementwise_mean':\n",
    "        return torch.mean(val)\n",
    "    elif reduction == 'elementwise_sum':\n",
    "        return torch.sum(val)\n",
    "    elif reduction == 'none':\n",
    "        return val\n",
    "    else:\n",
    "        raise NotImplemented"
   ]
  },
  {
   "cell_type": "markdown",
   "metadata": {},
   "source": [
    "## Imports"
   ]
  },
  {
   "cell_type": "code",
   "execution_count": 3,
   "metadata": {},
   "outputs": [],
   "source": [
    "import numpy as np\n",
    "from torchvision import datasets\n",
    "from torchvision import transforms\n",
    "from torch.utils.data import DataLoader\n",
    "import torch.nn.functional as F\n",
    "import torch"
   ]
  },
  {
   "cell_type": "markdown",
   "metadata": {},
   "source": [
    "## Settings and Dataset"
   ]
  },
  {
   "cell_type": "code",
   "execution_count": 4,
   "metadata": {},
   "outputs": [
    {
     "name": "stdout",
     "output_type": "stream",
     "text": [
      "Image batch dimensions: torch.Size([256, 1, 28, 28])\n",
      "Image label dimensions: torch.Size([256])\n"
     ]
    }
   ],
   "source": [
    "##########################\n",
    "### SETTINGS\n",
    "##########################\n",
    "\n",
    "# Device\n",
    "device = torch.device(\"cuda:0\" if torch.cuda.is_available() else \"cpu\")\n",
    "\n",
    "# Hyperparameters\n",
    "random_seed = 123\n",
    "learning_rate = 0.2\n",
    "num_epochs = 10\n",
    "batch_size = 256\n",
    "\n",
    "# Architecture\n",
    "num_features = 784\n",
    "num_classes = 10\n",
    "\n",
    "\n",
    "##########################\n",
    "### MNIST DATASET\n",
    "##########################\n",
    "\n",
    "train_dataset = datasets.MNIST(root='data', \n",
    "                               train=True, \n",
    "                               transform=transforms.ToTensor(),  \n",
    "                               download=True)\n",
    "\n",
    "test_dataset = datasets.MNIST(root='data', \n",
    "                              train=False, \n",
    "                              transform=transforms.ToTensor())\n",
    "\n",
    "\n",
    "train_loader = DataLoader(dataset=train_dataset, \n",
    "                          batch_size=batch_size, \n",
    "                          shuffle=True)\n",
    "\n",
    "test_loader = DataLoader(dataset=test_dataset, \n",
    "                         batch_size=batch_size, \n",
    "                         shuffle=False)\n",
    "\n",
    "\n",
    "# Checking the dataset\n",
    "for images, labels in train_loader:  \n",
    "    print('Image batch dimensions:', images.shape)\n",
    "    print('Image label dimensions:', labels.shape)\n",
    "    break"
   ]
  },
  {
   "cell_type": "code",
   "execution_count": 5,
   "metadata": {},
   "outputs": [],
   "source": [
    "##########################\n",
    "### MODEL\n",
    "##########################\n",
    "\n",
    "class SoftmaxRegression(torch.nn.Module):\n",
    "\n",
    "    def __init__(self, num_features, num_classes):\n",
    "        super(SoftmaxRegression, self).__init__()\n",
    "        self.linear = torch.nn.Linear(num_features, num_classes)\n",
    "        \n",
    "        self.linear.weight.detach().zero_()\n",
    "        self.linear.bias.detach().zero_()\n",
    "        \n",
    "    def forward(self, x):\n",
    "        logits = self.linear(x)\n",
    "        probas = F.softmax(logits, dim=1)\n",
    "        return logits, probas\n",
    "\n",
    "model = SoftmaxRegression(num_features=num_features,\n",
    "                          num_classes=num_classes)\n",
    "\n",
    "model.to(device)\n",
    "\n",
    "##########################\n",
    "### COST AND OPTIMIZER\n",
    "##########################\n",
    "\n",
    "\n",
    "optimizer = torch.optim.SGD(model.parameters(), lr=learning_rate)  "
   ]
  },
  {
   "cell_type": "code",
   "execution_count": 6,
   "metadata": {},
   "outputs": [
    {
     "name": "stdout",
     "output_type": "stream",
     "text": [
      "Epoch: 001/010 | Batch 000/234 | Cost: 1.2997\n",
      "Epoch: 001/010 | Batch 050/234 | Cost: 0.2255\n",
      "Epoch: 001/010 | Batch 100/234 | Cost: 0.1610\n",
      "Epoch: 001/010 | Batch 150/234 | Cost: 0.1292\n",
      "Epoch: 001/010 | Batch 200/234 | Cost: 0.1356\n",
      "Epoch: 001/010 training accuracy: 87.31%\n",
      "Epoch: 002/010 | Batch 000/234 | Cost: 0.1270\n",
      "Epoch: 002/010 | Batch 050/234 | Cost: 0.1446\n",
      "Epoch: 002/010 | Batch 100/234 | Cost: 0.1317\n",
      "Epoch: 002/010 | Batch 150/234 | Cost: 0.1216\n",
      "Epoch: 002/010 | Batch 200/234 | Cost: 0.1086\n",
      "Epoch: 002/010 training accuracy: 88.35%\n",
      "Epoch: 003/010 | Batch 000/234 | Cost: 0.1074\n",
      "Epoch: 003/010 | Batch 050/234 | Cost: 0.0920\n",
      "Epoch: 003/010 | Batch 100/234 | Cost: 0.0876\n",
      "Epoch: 003/010 | Batch 150/234 | Cost: 0.0884\n",
      "Epoch: 003/010 | Batch 200/234 | Cost: 0.1159\n",
      "Epoch: 003/010 training accuracy: 88.92%\n",
      "Epoch: 004/010 | Batch 000/234 | Cost: 0.1102\n",
      "Epoch: 004/010 | Batch 050/234 | Cost: 0.0995\n",
      "Epoch: 004/010 | Batch 100/234 | Cost: 0.0902\n",
      "Epoch: 004/010 | Batch 150/234 | Cost: 0.1259\n",
      "Epoch: 004/010 | Batch 200/234 | Cost: 0.0887\n",
      "Epoch: 004/010 training accuracy: 89.15%\n",
      "Epoch: 005/010 | Batch 000/234 | Cost: 0.0931\n",
      "Epoch: 005/010 | Batch 050/234 | Cost: 0.0976\n",
      "Epoch: 005/010 | Batch 100/234 | Cost: 0.0771\n",
      "Epoch: 005/010 | Batch 150/234 | Cost: 0.0797\n",
      "Epoch: 005/010 | Batch 200/234 | Cost: 0.0817\n",
      "Epoch: 005/010 training accuracy: 89.65%\n",
      "Epoch: 006/010 | Batch 000/234 | Cost: 0.1431\n",
      "Epoch: 006/010 | Batch 050/234 | Cost: 0.1031\n",
      "Epoch: 006/010 | Batch 100/234 | Cost: 0.1010\n",
      "Epoch: 006/010 | Batch 150/234 | Cost: 0.0916\n",
      "Epoch: 006/010 | Batch 200/234 | Cost: 0.0814\n",
      "Epoch: 006/010 training accuracy: 89.86%\n",
      "Epoch: 007/010 | Batch 000/234 | Cost: 0.0911\n",
      "Epoch: 007/010 | Batch 050/234 | Cost: 0.0585\n",
      "Epoch: 007/010 | Batch 100/234 | Cost: 0.0893\n",
      "Epoch: 007/010 | Batch 150/234 | Cost: 0.0831\n",
      "Epoch: 007/010 | Batch 200/234 | Cost: 0.1025\n",
      "Epoch: 007/010 training accuracy: 90.06%\n",
      "Epoch: 008/010 | Batch 000/234 | Cost: 0.1376\n",
      "Epoch: 008/010 | Batch 050/234 | Cost: 0.0845\n",
      "Epoch: 008/010 | Batch 100/234 | Cost: 0.0846\n",
      "Epoch: 008/010 | Batch 150/234 | Cost: 0.0893\n",
      "Epoch: 008/010 | Batch 200/234 | Cost: 0.1159\n",
      "Epoch: 008/010 training accuracy: 90.18%\n",
      "Epoch: 009/010 | Batch 000/234 | Cost: 0.0935\n",
      "Epoch: 009/010 | Batch 050/234 | Cost: 0.0724\n",
      "Epoch: 009/010 | Batch 100/234 | Cost: 0.0654\n",
      "Epoch: 009/010 | Batch 150/234 | Cost: 0.0699\n",
      "Epoch: 009/010 | Batch 200/234 | Cost: 0.1012\n",
      "Epoch: 009/010 training accuracy: 90.33%\n",
      "Epoch: 010/010 | Batch 000/234 | Cost: 0.0783\n",
      "Epoch: 010/010 | Batch 050/234 | Cost: 0.0733\n",
      "Epoch: 010/010 | Batch 100/234 | Cost: 0.0962\n",
      "Epoch: 010/010 | Batch 150/234 | Cost: 0.0583\n",
      "Epoch: 010/010 | Batch 200/234 | Cost: 0.1011\n",
      "Epoch: 010/010 training accuracy: 90.32%\n"
     ]
    }
   ],
   "source": [
    "# Manual seed for deterministic data loader\n",
    "torch.manual_seed(random_seed)\n",
    "\n",
    "\n",
    "def compute_accuracy(model, data_loader):\n",
    "    correct_pred, num_examples = 0, 0\n",
    "    \n",
    "    for features, targets in data_loader:\n",
    "        features = features.view(-1, 28*28).to(device)\n",
    "        targets = targets.to(device)\n",
    "        logits, probas = model(features)\n",
    "        _, predicted_labels = torch.max(probas, 1)\n",
    "        num_examples += targets.size(0)\n",
    "        correct_pred += (predicted_labels == targets).sum()\n",
    "        \n",
    "    return correct_pred.float() / num_examples * 100\n",
    "    \n",
    "\n",
    "for epoch in range(num_epochs):\n",
    "    for batch_idx, (features, targets) in enumerate(train_loader):\n",
    "        \n",
    "        features = features.view(-1, 28*28).to(device)\n",
    "        targets = targets.to(device)\n",
    "            \n",
    "        ### FORWARD AND BACK PROP\n",
    "        logits, probas = model(features)\n",
    "        cost = rank_cross_entropy(logits, targets, num_classes=10)\n",
    "        optimizer.zero_grad()\n",
    "        cost.backward()\n",
    "        \n",
    "        ### UPDATE MODEL PARAMETERS\n",
    "        optimizer.step()\n",
    "        \n",
    "        ### LOGGING\n",
    "        if not batch_idx % 50:\n",
    "            print ('Epoch: %03d/%03d | Batch %03d/%03d | Cost: %.4f' \n",
    "                   %(epoch+1, num_epochs, batch_idx, \n",
    "                     len(train_dataset)//batch_size, cost))\n",
    "            \n",
    "    print('Epoch: %03d/%03d training accuracy: %.2f%%' % (\n",
    "          epoch+1, num_epochs, \n",
    "          compute_accuracy(model, train_loader)))"
   ]
  },
  {
   "cell_type": "code",
   "execution_count": 7,
   "metadata": {},
   "outputs": [
    {
     "name": "stdout",
     "output_type": "stream",
     "text": [
      "Test accuracy: 90.98%\n"
     ]
    }
   ],
   "source": [
    "print('Test accuracy: %.2f%%' % (compute_accuracy(model, test_loader)))"
   ]
  }
 ],
 "metadata": {
  "kernelspec": {
   "display_name": "Python 3",
   "language": "python",
   "name": "python3"
  },
  "language_info": {
   "codemirror_mode": {
    "name": "ipython",
    "version": 3
   },
   "file_extension": ".py",
   "mimetype": "text/x-python",
   "name": "python",
   "nbconvert_exporter": "python",
   "pygments_lexer": "ipython3",
   "version": "3.7.1"
  },
  "toc": {
   "nav_menu": {},
   "number_sections": true,
   "sideBar": true,
   "skip_h1_title": false,
   "title_cell": "Table of Contents",
   "title_sidebar": "Contents",
   "toc_cell": false,
   "toc_position": {},
   "toc_section_display": true,
   "toc_window_display": false
  }
 },
 "nbformat": 4,
 "nbformat_minor": 2
}
