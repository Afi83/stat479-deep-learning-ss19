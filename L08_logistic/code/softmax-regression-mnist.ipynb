{
 "cells": [
  {
   "cell_type": "markdown",
   "metadata": {},
   "source": [
    "STAT 479: Deep Learning (Spring 2019)  \n",
    "Instructor: Sebastian Raschka (sraschka@wisc.edu)  \n",
    "Course website: http://pages.stat.wisc.edu/~sraschka/teaching/stat479-ss2019/  \n",
    "GitHub repository: https://github.com/rasbt/stat479-deep-learning-ss19"
   ]
  },
  {
   "cell_type": "code",
   "execution_count": 1,
   "metadata": {},
   "outputs": [
    {
     "name": "stdout",
     "output_type": "stream",
     "text": [
      "Sebastian Raschka \n",
      "\n",
      "CPython 3.6.8\n",
      "IPython 7.2.0\n",
      "\n",
      "torch 1.0.0\n"
     ]
    }
   ],
   "source": [
    "%load_ext watermark\n",
    "%watermark -a 'Sebastian Raschka' -v -p torch"
   ]
  },
  {
   "cell_type": "markdown",
   "metadata": {},
   "source": [
    "- Runs on CPU or GPU (if available)"
   ]
  },
  {
   "cell_type": "markdown",
   "metadata": {},
   "source": [
    "# Softmax Regression on MNIST"
   ]
  },
  {
   "cell_type": "markdown",
   "metadata": {},
   "source": [
    "Implementation of softmax regression (multinomial logistic regression)."
   ]
  },
  {
   "cell_type": "markdown",
   "metadata": {},
   "source": [
    "## Imports"
   ]
  },
  {
   "cell_type": "code",
   "execution_count": 2,
   "metadata": {},
   "outputs": [],
   "source": [
    "import time\n",
    "from torchvision import datasets\n",
    "from torchvision import transforms\n",
    "from torch.utils.data import DataLoader\n",
    "import torch.nn.functional as F\n",
    "import torch"
   ]
  },
  {
   "cell_type": "markdown",
   "metadata": {},
   "source": [
    "## Settings and Dataset"
   ]
  },
  {
   "cell_type": "code",
   "execution_count": 3,
   "metadata": {},
   "outputs": [
    {
     "name": "stdout",
     "output_type": "stream",
     "text": [
      "Image batch dimensions: torch.Size([256, 1, 28, 28])\n",
      "Image label dimensions: torch.Size([256])\n"
     ]
    }
   ],
   "source": [
    "##########################\n",
    "### SETTINGS\n",
    "##########################\n",
    "\n",
    "# Device\n",
    "device = torch.device(\"cuda:0\" if torch.cuda.is_available() else \"cpu\")\n",
    "\n",
    "# Hyperparameters\n",
    "random_seed = 123\n",
    "learning_rate = 0.1\n",
    "num_epochs = 25\n",
    "batch_size = 256\n",
    "\n",
    "# Architecture\n",
    "num_features = 784\n",
    "num_classes = 10\n",
    "\n",
    "\n",
    "##########################\n",
    "### MNIST DATASET\n",
    "##########################\n",
    "\n",
    "train_dataset = datasets.MNIST(root='data', \n",
    "                               train=True, \n",
    "                               transform=transforms.ToTensor(),  \n",
    "                               download=True)\n",
    "\n",
    "test_dataset = datasets.MNIST(root='data', \n",
    "                              train=False, \n",
    "                              transform=transforms.ToTensor())\n",
    "\n",
    "\n",
    "train_loader = DataLoader(dataset=train_dataset, \n",
    "                          batch_size=batch_size, \n",
    "                          shuffle=True)\n",
    "\n",
    "test_loader = DataLoader(dataset=test_dataset, \n",
    "                         batch_size=batch_size, \n",
    "                         shuffle=False)\n",
    "\n",
    "\n",
    "# Checking the dataset\n",
    "for images, labels in train_loader:  \n",
    "    print('Image batch dimensions:', images.shape)\n",
    "    print('Image label dimensions:', labels.shape)\n",
    "    break"
   ]
  },
  {
   "cell_type": "code",
   "execution_count": 4,
   "metadata": {},
   "outputs": [],
   "source": [
    "##########################\n",
    "### MODEL\n",
    "##########################\n",
    "\n",
    "class SoftmaxRegression(torch.nn.Module):\n",
    "\n",
    "    def __init__(self, num_features, num_classes):\n",
    "        super(SoftmaxRegression, self).__init__()\n",
    "        self.linear = torch.nn.Linear(num_features, num_classes)\n",
    "        \n",
    "        self.linear.weight.detach().zero_()\n",
    "        self.linear.bias.detach().zero_()\n",
    "        \n",
    "    def forward(self, x):\n",
    "        logits = self.linear(x)\n",
    "        probas = F.softmax(logits, dim=1)\n",
    "        return logits, probas\n",
    "\n",
    "model = SoftmaxRegression(num_features=num_features,\n",
    "                          num_classes=num_classes)\n",
    "\n",
    "model.to(device)\n",
    "\n",
    "##########################\n",
    "### COST AND OPTIMIZER\n",
    "##########################\n",
    "\n",
    "optimizer = torch.optim.SGD(model.parameters(), lr=learning_rate)  "
   ]
  },
  {
   "cell_type": "code",
   "execution_count": 5,
   "metadata": {},
   "outputs": [
    {
     "name": "stdout",
     "output_type": "stream",
     "text": [
      "Epoch: 001/025 | Batch 000/234 | Cost: 2.3026\n",
      "Epoch: 001/025 | Batch 050/234 | Cost: 0.7941\n",
      "Epoch: 001/025 | Batch 100/234 | Cost: 0.5651\n",
      "Epoch: 001/025 | Batch 150/234 | Cost: 0.4603\n",
      "Epoch: 001/025 | Batch 200/234 | Cost: 0.4822\n",
      "Epoch: 001/025 training accuracy: 88.04%\n",
      "Time elapsed: 0.19 min\n",
      "Epoch: 002/025 | Batch 000/234 | Cost: 0.4105\n",
      "Epoch: 002/025 | Batch 050/234 | Cost: 0.4415\n",
      "Epoch: 002/025 | Batch 100/234 | Cost: 0.4367\n",
      "Epoch: 002/025 | Batch 150/234 | Cost: 0.4289\n",
      "Epoch: 002/025 | Batch 200/234 | Cost: 0.3926\n",
      "Epoch: 002/025 training accuracy: 89.37%\n",
      "Time elapsed: 0.38 min\n",
      "Epoch: 003/025 | Batch 000/234 | Cost: 0.4112\n",
      "Epoch: 003/025 | Batch 050/234 | Cost: 0.3579\n",
      "Epoch: 003/025 | Batch 100/234 | Cost: 0.3013\n",
      "Epoch: 003/025 | Batch 150/234 | Cost: 0.3258\n",
      "Epoch: 003/025 | Batch 200/234 | Cost: 0.4254\n",
      "Epoch: 003/025 training accuracy: 89.98%\n",
      "Time elapsed: 0.58 min\n",
      "Epoch: 004/025 | Batch 000/234 | Cost: 0.3988\n",
      "Epoch: 004/025 | Batch 050/234 | Cost: 0.3690\n",
      "Epoch: 004/025 | Batch 100/234 | Cost: 0.3459\n",
      "Epoch: 004/025 | Batch 150/234 | Cost: 0.4030\n",
      "Epoch: 004/025 | Batch 200/234 | Cost: 0.3240\n",
      "Epoch: 004/025 training accuracy: 90.35%\n",
      "Time elapsed: 0.77 min\n",
      "Epoch: 005/025 | Batch 000/234 | Cost: 0.3265\n",
      "Epoch: 005/025 | Batch 050/234 | Cost: 0.3673\n",
      "Epoch: 005/025 | Batch 100/234 | Cost: 0.3085\n",
      "Epoch: 005/025 | Batch 150/234 | Cost: 0.3183\n",
      "Epoch: 005/025 | Batch 200/234 | Cost: 0.3316\n",
      "Epoch: 005/025 training accuracy: 90.64%\n",
      "Time elapsed: 0.96 min\n",
      "Epoch: 006/025 | Batch 000/234 | Cost: 0.4518\n",
      "Epoch: 006/025 | Batch 050/234 | Cost: 0.3863\n",
      "Epoch: 006/025 | Batch 100/234 | Cost: 0.3620\n",
      "Epoch: 006/025 | Batch 150/234 | Cost: 0.3733\n",
      "Epoch: 006/025 | Batch 200/234 | Cost: 0.3289\n",
      "Epoch: 006/025 training accuracy: 90.86%\n",
      "Time elapsed: 1.14 min\n",
      "Epoch: 007/025 | Batch 000/234 | Cost: 0.3450\n",
      "Epoch: 007/025 | Batch 050/234 | Cost: 0.2289\n",
      "Epoch: 007/025 | Batch 100/234 | Cost: 0.3073\n",
      "Epoch: 007/025 | Batch 150/234 | Cost: 0.2750\n",
      "Epoch: 007/025 | Batch 200/234 | Cost: 0.3456\n",
      "Epoch: 007/025 training accuracy: 91.00%\n",
      "Time elapsed: 1.34 min\n",
      "Epoch: 008/025 | Batch 000/234 | Cost: 0.4900\n",
      "Epoch: 008/025 | Batch 050/234 | Cost: 0.3479\n",
      "Epoch: 008/025 | Batch 100/234 | Cost: 0.2343\n",
      "Epoch: 008/025 | Batch 150/234 | Cost: 0.3059\n",
      "Epoch: 008/025 | Batch 200/234 | Cost: 0.3684\n",
      "Epoch: 008/025 training accuracy: 91.22%\n",
      "Time elapsed: 1.54 min\n",
      "Epoch: 009/025 | Batch 000/234 | Cost: 0.3762\n",
      "Epoch: 009/025 | Batch 050/234 | Cost: 0.2976\n",
      "Epoch: 009/025 | Batch 100/234 | Cost: 0.2690\n",
      "Epoch: 009/025 | Batch 150/234 | Cost: 0.2610\n",
      "Epoch: 009/025 | Batch 200/234 | Cost: 0.3140\n",
      "Epoch: 009/025 training accuracy: 91.34%\n",
      "Time elapsed: 1.74 min\n",
      "Epoch: 010/025 | Batch 000/234 | Cost: 0.2790\n",
      "Epoch: 010/025 | Batch 050/234 | Cost: 0.3070\n",
      "Epoch: 010/025 | Batch 100/234 | Cost: 0.3300\n",
      "Epoch: 010/025 | Batch 150/234 | Cost: 0.2520\n",
      "Epoch: 010/025 | Batch 200/234 | Cost: 0.3301\n",
      "Epoch: 010/025 training accuracy: 91.40%\n",
      "Time elapsed: 1.94 min\n",
      "Epoch: 011/025 | Batch 000/234 | Cost: 0.2845\n",
      "Epoch: 011/025 | Batch 050/234 | Cost: 0.3507\n",
      "Epoch: 011/025 | Batch 100/234 | Cost: 0.2679\n",
      "Epoch: 011/025 | Batch 150/234 | Cost: 0.3396\n",
      "Epoch: 011/025 | Batch 200/234 | Cost: 0.3431\n",
      "Epoch: 011/025 training accuracy: 91.51%\n",
      "Time elapsed: 2.13 min\n",
      "Epoch: 012/025 | Batch 000/234 | Cost: 0.3202\n",
      "Epoch: 012/025 | Batch 050/234 | Cost: 0.2834\n",
      "Epoch: 012/025 | Batch 100/234 | Cost: 0.3629\n",
      "Epoch: 012/025 | Batch 150/234 | Cost: 0.2630\n",
      "Epoch: 012/025 | Batch 200/234 | Cost: 0.4225\n",
      "Epoch: 012/025 training accuracy: 91.68%\n",
      "Time elapsed: 2.32 min\n",
      "Epoch: 013/025 | Batch 000/234 | Cost: 0.2921\n",
      "Epoch: 013/025 | Batch 050/234 | Cost: 0.4273\n",
      "Epoch: 013/025 | Batch 100/234 | Cost: 0.3128\n",
      "Epoch: 013/025 | Batch 150/234 | Cost: 0.3140\n",
      "Epoch: 013/025 | Batch 200/234 | Cost: 0.2697\n",
      "Epoch: 013/025 training accuracy: 91.67%\n",
      "Time elapsed: 2.51 min\n",
      "Epoch: 014/025 | Batch 000/234 | Cost: 0.2346\n",
      "Epoch: 014/025 | Batch 050/234 | Cost: 0.2957\n",
      "Epoch: 014/025 | Batch 100/234 | Cost: 0.3246\n",
      "Epoch: 014/025 | Batch 150/234 | Cost: 0.2418\n",
      "Epoch: 014/025 | Batch 200/234 | Cost: 0.1818\n",
      "Epoch: 014/025 training accuracy: 91.76%\n",
      "Time elapsed: 2.71 min\n",
      "Epoch: 015/025 | Batch 000/234 | Cost: 0.3318\n",
      "Epoch: 015/025 | Batch 050/234 | Cost: 0.2906\n",
      "Epoch: 015/025 | Batch 100/234 | Cost: 0.2780\n",
      "Epoch: 015/025 | Batch 150/234 | Cost: 0.3171\n",
      "Epoch: 015/025 | Batch 200/234 | Cost: 0.2561\n",
      "Epoch: 015/025 training accuracy: 91.74%\n",
      "Time elapsed: 2.90 min\n",
      "Epoch: 016/025 | Batch 000/234 | Cost: 0.2631\n",
      "Epoch: 016/025 | Batch 050/234 | Cost: 0.2095\n",
      "Epoch: 016/025 | Batch 100/234 | Cost: 0.2696\n",
      "Epoch: 016/025 | Batch 150/234 | Cost: 0.3189\n",
      "Epoch: 016/025 | Batch 200/234 | Cost: 0.3387\n",
      "Epoch: 016/025 training accuracy: 91.85%\n",
      "Time elapsed: 3.10 min\n",
      "Epoch: 017/025 | Batch 000/234 | Cost: 0.2919\n",
      "Epoch: 017/025 | Batch 050/234 | Cost: 0.2586\n",
      "Epoch: 017/025 | Batch 100/234 | Cost: 0.2453\n",
      "Epoch: 017/025 | Batch 150/234 | Cost: 0.2552\n",
      "Epoch: 017/025 | Batch 200/234 | Cost: 0.3194\n",
      "Epoch: 017/025 training accuracy: 91.92%\n",
      "Time elapsed: 3.29 min\n",
      "Epoch: 018/025 | Batch 000/234 | Cost: 0.2965\n",
      "Epoch: 018/025 | Batch 050/234 | Cost: 0.2609\n",
      "Epoch: 018/025 | Batch 100/234 | Cost: 0.3399\n",
      "Epoch: 018/025 | Batch 150/234 | Cost: 0.3742\n",
      "Epoch: 018/025 | Batch 200/234 | Cost: 0.2957\n",
      "Epoch: 018/025 training accuracy: 91.94%\n",
      "Time elapsed: 3.49 min\n",
      "Epoch: 019/025 | Batch 000/234 | Cost: 0.2977\n",
      "Epoch: 019/025 | Batch 050/234 | Cost: 0.2610\n",
      "Epoch: 019/025 | Batch 100/234 | Cost: 0.2480\n",
      "Epoch: 019/025 | Batch 150/234 | Cost: 0.2381\n",
      "Epoch: 019/025 | Batch 200/234 | Cost: 0.2890\n",
      "Epoch: 019/025 training accuracy: 92.03%\n",
      "Time elapsed: 3.69 min\n",
      "Epoch: 020/025 | Batch 000/234 | Cost: 0.3529\n",
      "Epoch: 020/025 | Batch 050/234 | Cost: 0.2799\n",
      "Epoch: 020/025 | Batch 100/234 | Cost: 0.3940\n",
      "Epoch: 020/025 | Batch 150/234 | Cost: 0.3058\n",
      "Epoch: 020/025 | Batch 200/234 | Cost: 0.3928\n",
      "Epoch: 020/025 training accuracy: 92.07%\n",
      "Time elapsed: 3.88 min\n",
      "Epoch: 021/025 | Batch 000/234 | Cost: 0.3226\n",
      "Epoch: 021/025 | Batch 050/234 | Cost: 0.2530\n",
      "Epoch: 021/025 | Batch 100/234 | Cost: 0.2593\n",
      "Epoch: 021/025 | Batch 150/234 | Cost: 0.2623\n",
      "Epoch: 021/025 | Batch 200/234 | Cost: 0.2455\n",
      "Epoch: 021/025 training accuracy: 92.08%\n",
      "Time elapsed: 4.08 min\n",
      "Epoch: 022/025 | Batch 000/234 | Cost: 0.3273\n",
      "Epoch: 022/025 | Batch 050/234 | Cost: 0.2519\n",
      "Epoch: 022/025 | Batch 100/234 | Cost: 0.3061\n",
      "Epoch: 022/025 | Batch 150/234 | Cost: 0.2056\n",
      "Epoch: 022/025 | Batch 200/234 | Cost: 0.3110\n",
      "Epoch: 022/025 training accuracy: 92.14%\n",
      "Time elapsed: 4.28 min\n",
      "Epoch: 023/025 | Batch 000/234 | Cost: 0.2931\n",
      "Epoch: 023/025 | Batch 050/234 | Cost: 0.2798\n",
      "Epoch: 023/025 | Batch 100/234 | Cost: 0.2342\n",
      "Epoch: 023/025 | Batch 150/234 | Cost: 0.3144\n",
      "Epoch: 023/025 | Batch 200/234 | Cost: 0.3118\n",
      "Epoch: 023/025 training accuracy: 92.12%\n",
      "Time elapsed: 4.47 min\n",
      "Epoch: 024/025 | Batch 000/234 | Cost: 0.3192\n",
      "Epoch: 024/025 | Batch 050/234 | Cost: 0.2556\n",
      "Epoch: 024/025 | Batch 100/234 | Cost: 0.2780\n",
      "Epoch: 024/025 | Batch 150/234 | Cost: 0.3079\n",
      "Epoch: 024/025 | Batch 200/234 | Cost: 0.2355\n",
      "Epoch: 024/025 training accuracy: 92.23%\n",
      "Time elapsed: 4.66 min\n",
      "Epoch: 025/025 | Batch 000/234 | Cost: 0.2427\n",
      "Epoch: 025/025 | Batch 050/234 | Cost: 0.2666\n",
      "Epoch: 025/025 | Batch 100/234 | Cost: 0.3950\n",
      "Epoch: 025/025 | Batch 150/234 | Cost: 0.2907\n",
      "Epoch: 025/025 | Batch 200/234 | Cost: 0.3244\n",
      "Epoch: 025/025 training accuracy: 92.19%\n",
      "Time elapsed: 4.86 min\n"
     ]
    }
   ],
   "source": [
    "# Manual seed for deterministic data loader\n",
    "torch.manual_seed(random_seed)\n",
    "\n",
    "\n",
    "def compute_accuracy(model, data_loader):\n",
    "    correct_pred, num_examples = 0, 0\n",
    "    \n",
    "    for features, targets in data_loader:\n",
    "        features = features.view(-1, 28*28).to(device)\n",
    "        targets = targets.to(device)\n",
    "        logits, probas = model(features)\n",
    "        _, predicted_labels = torch.max(probas, 1)\n",
    "        num_examples += targets.size(0)\n",
    "        correct_pred += (predicted_labels == targets).sum()\n",
    "        \n",
    "    return correct_pred.float() / num_examples * 100\n",
    "    \n",
    "\n",
    "start_time = time.time()\n",
    "epoch_costs = []\n",
    "for epoch in range(num_epochs):\n",
    "    avg_cost = 0.\n",
    "    for batch_idx, (features, targets) in enumerate(train_loader):\n",
    "        \n",
    "        features = features.view(-1, 28*28).to(device)\n",
    "        targets = targets.to(device)\n",
    "            \n",
    "        ### FORWARD AND BACK PROP\n",
    "        logits, probas = model(features)\n",
    "        \n",
    "        # note that the PyTorch implementation of\n",
    "        # CrossEntropyLoss works with logits, not\n",
    "        # probabilities\n",
    "        cost = F.cross_entropy(logits, targets)\n",
    "        optimizer.zero_grad()\n",
    "        cost.backward()\n",
    "        avg_cost += cost\n",
    "        avg_cost\n",
    "        \n",
    "        ### UPDATE MODEL PARAMETERS\n",
    "        optimizer.step()\n",
    "        \n",
    "        ### LOGGING\n",
    "        if not batch_idx % 50:\n",
    "            print ('Epoch: %03d/%03d | Batch %03d/%03d | Cost: %.4f' \n",
    "                   %(epoch+1, num_epochs, batch_idx, \n",
    "                     len(train_dataset)//batch_size, cost))\n",
    "            \n",
    "    with torch.set_grad_enabled(False):\n",
    "        avg_cost = avg_cost/len(train_dataset)\n",
    "        epoch_costs.append(avg_cost)\n",
    "        print('Epoch: %03d/%03d training accuracy: %.2f%%' % (\n",
    "              epoch+1, num_epochs, \n",
    "              compute_accuracy(model, train_loader)))\n",
    "        print('Time elapsed: %.2f min' % ((time.time() - start_time)/60))"
   ]
  },
  {
   "cell_type": "code",
   "execution_count": 6,
   "metadata": {},
   "outputs": [
    {
     "data": {
      "image/png": "[encoded data removed]",
      "text/plain": [
       "<Figure size 432x288 with 1 Axes>"
      ]
     },
     "metadata": {
      "needs_background": "light"
     },
     "output_type": "display_data"
    }
   ],
   "source": [
    "%matplotlib inline\n",
    "import matplotlib\n",
    "import matplotlib.pyplot as plt\n",
    "\n",
    "\n",
    "plt.plot(epoch_costs)\n",
    "plt.ylabel('Avg Cross Entropy Loss\\n(approximated by averaging over minibatches)')\n",
    "plt.xlabel('Epoch')\n",
    "plt.show()"
   ]
  },
  {
   "cell_type": "code",
   "execution_count": 7,
   "metadata": {},
   "outputs": [
    {
     "name": "stdout",
     "output_type": "stream",
     "text": [
      "Test accuracy: 92.21%\n"
     ]
    }
   ],
   "source": [
    "print('Test accuracy: %.2f%%' % (compute_accuracy(model, test_loader)))"
   ]
  },
  {
   "cell_type": "code",
   "execution_count": 8,
   "metadata": {},
   "outputs": [
    {
     "data": {
      "image/png": "[encoded data removed]",
      "text/plain": [
       "<Figure size 432x288 with 4 Axes>"
      ]
     },
     "metadata": {
      "needs_background": "light"
     },
     "output_type": "display_data"
    }
   ],
   "source": [
    "for features, targets in test_loader:\n",
    "    break\n",
    "    \n",
    "fig, ax = plt.subplots(1, 4)\n",
    "for i in range(4):\n",
    "    ax[i].imshow(features[i].view(28, 28), cmap=matplotlib.cm.binary)\n",
    "\n",
    "plt.show()"
   ]
  },
  {
   "cell_type": "code",
   "execution_count": 9,
   "metadata": {},
   "outputs": [
    {
     "name": "stdout",
     "output_type": "stream",
     "text": [
      "Predicted labels tensor([7, 2, 1, 0], device='cuda:0')\n"
     ]
    }
   ],
   "source": [
    "_, predictions = model.forward(features[:4].view(-1, 28*28).to(device))\n",
    "predictions = torch.argmax(predictions, dim=1)\n",
    "print('Predicted labels', predictions)"
   ]
  }
 ],
 "metadata": {
  "kernelspec": {
   "display_name": "Python 3",
   "language": "python",
   "name": "python3"
  },
  "language_info": {
   "codemirror_mode": {
    "name": "ipython",
    "version": 3
   },
   "file_extension": ".py",
   "mimetype": "text/x-python",
   "name": "python",
   "nbconvert_exporter": "python",
   "pygments_lexer": "ipython3",
   "version": "3.6.8"
  },
  "toc": {
   "nav_menu": {},
   "number_sections": true,
   "sideBar": true,
   "skip_h1_title": false,
   "title_cell": "Table of Contents",
   "title_sidebar": "Contents",
   "toc_cell": false,
   "toc_position": {},
   "toc_section_display": true,
   "toc_window_display": false
  }
 },
 "nbformat": 4,
 "nbformat_minor": 2
}
