{
 "cells": [
  {
   "cell_type": "markdown",
   "metadata": {},
   "source": [
    "STAT 479: Deep Learning (Spring 2019)  \n",
    "Instructor: Sebastian Raschka (sraschka@wisc.edu)  \n",
    "Course website: http://pages.stat.wisc.edu/~sraschka/teaching/stat479-ss2019/  \n",
    "GitHub repository: https://github.com/rasbt/stat479-deep-learning-ss19"
   ]
  },
  {
   "cell_type": "code",
   "execution_count": 1,
   "metadata": {},
   "outputs": [
    {
     "name": "stdout",
     "output_type": "stream",
     "text": [
      "Sebastian Raschka \n",
      "\n",
      "CPython 3.6.8\n",
      "IPython 7.2.0\n",
      "\n",
      "torch 1.0.0\n"
     ]
    }
   ],
   "source": [
    "%load_ext watermark\n",
    "%watermark -a 'Sebastian Raschka' -v -p torch"
   ]
  },
  {
   "cell_type": "markdown",
   "metadata": {},
   "source": [
    "- Runs on CPU or GPU (if available)"
   ]
  },
  {
   "cell_type": "markdown",
   "metadata": {},
   "source": [
    "# Softmax Regression"
   ]
  },
  {
   "cell_type": "markdown",
   "metadata": {},
   "source": [
    "Implementation of *classic* softmax regression."
   ]
  },
  {
   "cell_type": "markdown",
   "metadata": {},
   "source": [
    "## Imports"
   ]
  },
  {
   "cell_type": "code",
   "execution_count": 2,
   "metadata": {},
   "outputs": [],
   "source": [
    "%matplotlib inline\n",
    "import matplotlib.pyplot as plt\n",
    "import pandas as pd\n",
    "import torch\n",
    "import torch.nn.functional as F"
   ]
  },
  {
   "cell_type": "markdown",
   "metadata": {},
   "source": [
    "## Preparing a dataset"
   ]
  },
  {
   "cell_type": "code",
   "execution_count": 3,
   "metadata": {},
   "outputs": [
    {
     "data": {
      "image/png": "[encoded data removed]",
      "text/plain": [
       "<Figure size 504x180 with 2 Axes>"
      ]
     },
     "metadata": {
      "needs_background": "light"
     },
     "output_type": "display_data"
    }
   ],
   "source": [
    "##########################\n",
    "### DATASET\n",
    "##########################\n",
    "\n",
    "\n",
    "\n",
    "df = pd.read_csv('./data/iris.data', index_col=None, header=None)\n",
    "df.columns = ['x1', 'x2', 'x3', 'x4', 'y']\n",
    "\n",
    "d = {'Iris-versicolor': 1,\n",
    "     'Iris-virginica': 2,\n",
    "     'Iris-setosa': 0,\n",
    "}\n",
    "\n",
    "df['y'] = df['y'].map(d)\n",
    "\n",
    "# Assign features and target\n",
    "\n",
    "X = torch.tensor(df[['x2', 'x4']].values, dtype=torch.float)\n",
    "y = torch.tensor(df['y'].values, dtype=torch.int)\n",
    "\n",
    "# Shuffling & train/test split\n",
    "\n",
    "torch.manual_seed(123)\n",
    "shuffle_idx = torch.randperm(y.size(0), dtype=torch.long)\n",
    "\n",
    "X, y = X[shuffle_idx], y[shuffle_idx]\n",
    "\n",
    "percent80 = int(shuffle_idx.size(0)*0.8)\n",
    "\n",
    "X_train, X_test = X[shuffle_idx[:percent80]], X[shuffle_idx[percent80:]]\n",
    "y_train, y_test = y[shuffle_idx[:percent80]], y[shuffle_idx[percent80:]]\n",
    "\n",
    "# Normalize (mean zero, unit variance)\n",
    "\n",
    "mu, sigma = X_train.mean(dim=0), X_train.std(dim=0)\n",
    "X_train = (X_train - mu) / sigma\n",
    "X_test = (X_test - mu) / sigma\n",
    "\n",
    "\n",
    "fig, ax = plt.subplots(1, 2, figsize=(7, 2.5))\n",
    "ax[0].scatter(X_train[y_train == 2, 0], X_train[y_train == 2, 1])\n",
    "ax[0].scatter(X_train[y_train == 1, 0], X_train[y_train == 1, 1], marker='v')\n",
    "ax[0].scatter(X_train[y_train == 0, 0], X_train[y_train == 0, 1], marker='s')\n",
    "ax[1].scatter(X_test[y_test == 2, 0], X_test[y_test == 2, 1])\n",
    "ax[1].scatter(X_test[y_test == 1, 0], X_test[y_test == 1, 1], marker='v')\n",
    "ax[1].scatter(X_test[y_test == 0, 0], X_test[y_test == 0, 1], marker='s')\n",
    "plt.show()"
   ]
  },
  {
   "cell_type": "markdown",
   "metadata": {},
   "source": [
    "## Low-level implementation with manual gradients"
   ]
  },
  {
   "cell_type": "code",
   "execution_count": 4,
   "metadata": {},
   "outputs": [],
   "source": [
    "DEVICE = torch.device(\"cuda:0\" if torch.cuda.is_available() else \"cpu\")"
   ]
  },
  {
   "cell_type": "code",
   "execution_count": 5,
   "metadata": {},
   "outputs": [],
   "source": [
    "def to_onehot(y, num_classes):\n",
    "    y_onehot = torch.FloatTensor(y.size(0), num_classes)\n",
    "    y_onehot.zero_()\n",
    "    y_cpu = y.to(torch.device('cpu'))\n",
    "    y_onehot.scatter_(1, y_cpu.view(-1, 1).long(), 1).float()\n",
    "    return y_onehot.to(DEVICE)\n",
    "\n",
    "def softmax(z):\n",
    "    return (torch.exp(z.t()) / torch.sum(torch.exp(z), dim=1)).t()\n",
    "                    \n",
    "def cross_entropy(softmax, y_target):\n",
    "    return -torch.sum(torch.log(softmax) * (y_target), dim=1)"
   ]
  },
  {
   "cell_type": "code",
   "execution_count": 6,
   "metadata": {},
   "outputs": [],
   "source": [
    "def custom_where(cond, x_1, x_2):\n",
    "    return (cond * x_1) + ((1-cond) * x_2)\n",
    "\n",
    "\n",
    "class SoftmaxRegression1():\n",
    "    def __init__(self, num_features, num_classes):\n",
    "        self.num_features = num_features\n",
    "        self.num_classes = num_classes\n",
    "        self.weights = torch.zeros(num_classes, num_features, \n",
    "                                   dtype=torch.float32, device=DEVICE)\n",
    "        self.bias = torch.zeros(num_classes, dtype=torch.float32, device=DEVICE)\n",
    "\n",
    "    def forward(self, x):\n",
    "        logits = torch.add(torch.mm(x, self.weights.t()), self.bias)\n",
    "        probas = softmax(logits)\n",
    "        return logits, probas\n",
    "        \n",
    "    def backward(self, x, y, probas):  \n",
    "        grad_loss_out = y - probas # 120 x 3 dimensional\n",
    "        grad_loss_w = -torch.mm(x.t(), grad_loss_out).t()\n",
    "        grad_loss_b = -torch.sum(grad_loss_out)\n",
    "        return grad_loss_w, grad_loss_b\n",
    "            \n",
    "    def predict_labels(self, x):\n",
    "        logits, probas = self.forward(x)\n",
    "        labels = torch.argmax(probas, dim=1)\n",
    "        return labels    \n",
    "            \n",
    "    def evaluate(self, x, y):\n",
    "        labels = self.predict_labels(x).float()\n",
    "        accuracy = torch.sum(labels.view(-1) == y.float()).item() / y.size(0)\n",
    "        return accuracy\n",
    "    \n",
    "    def train(self, x, y, num_epochs, learning_rate=0.01):\n",
    "        epoch_cost = []\n",
    "        for e in range(num_epochs):\n",
    "            \n",
    "            y_onehot = to_onehot(y, num_classes=self.num_classes)\n",
    "            \n",
    "            #### Compute outputs ####\n",
    "            logits, probas = self.forward(x)\n",
    "            \n",
    "            #### Compute gradients ####\n",
    "            grad_w, grad_b = self.backward(x, y_onehot, probas)\n",
    "\n",
    "            #### Update weights ####\n",
    "            self.weights -= learning_rate * grad_w / y.size(0)\n",
    "            self.bias -= learning_rate * grad_b / y.size(0)\n",
    "            \n",
    "            #### Logging ####\n",
    "            logits, probas = self.forward(x)\n",
    "            cost = torch.mean(cross_entropy(probas, y_onehot))\n",
    "            print('Epoch: %03d' % (e+1), end=\"\")\n",
    "            print(' | Train ACC: %.3f' % self.evaluate(x, y), end=\"\")\n",
    "            print(' | Cost: %.3f' % cost)\n",
    "            epoch_cost.append(cost)\n",
    "        return epoch_cost"
   ]
  },
  {
   "cell_type": "code",
   "execution_count": 7,
   "metadata": {},
   "outputs": [
    {
     "name": "stdout",
     "output_type": "stream",
     "text": [
      "Epoch: 001 | Train ACC: 0.867 | Cost: 1.055\n",
      "Epoch: 002 | Train ACC: 0.867 | Cost: 1.016\n",
      "Epoch: 003 | Train ACC: 0.867 | Cost: 0.979\n",
      "Epoch: 004 | Train ACC: 0.858 | Cost: 0.945\n",
      "Epoch: 005 | Train ACC: 0.858 | Cost: 0.914\n",
      "Epoch: 006 | Train ACC: 0.858 | Cost: 0.886\n",
      "Epoch: 007 | Train ACC: 0.858 | Cost: 0.859\n",
      "Epoch: 008 | Train ACC: 0.858 | Cost: 0.835\n",
      "Epoch: 009 | Train ACC: 0.858 | Cost: 0.812\n",
      "Epoch: 010 | Train ACC: 0.858 | Cost: 0.791\n",
      "Epoch: 011 | Train ACC: 0.858 | Cost: 0.772\n",
      "Epoch: 012 | Train ACC: 0.858 | Cost: 0.754\n",
      "Epoch: 013 | Train ACC: 0.858 | Cost: 0.737\n",
      "Epoch: 014 | Train ACC: 0.858 | Cost: 0.722\n",
      "Epoch: 015 | Train ACC: 0.858 | Cost: 0.707\n",
      "Epoch: 016 | Train ACC: 0.858 | Cost: 0.693\n",
      "Epoch: 017 | Train ACC: 0.858 | Cost: 0.680\n",
      "Epoch: 018 | Train ACC: 0.858 | Cost: 0.668\n",
      "Epoch: 019 | Train ACC: 0.858 | Cost: 0.657\n",
      "Epoch: 020 | Train ACC: 0.858 | Cost: 0.646\n",
      "Epoch: 021 | Train ACC: 0.858 | Cost: 0.636\n",
      "Epoch: 022 | Train ACC: 0.858 | Cost: 0.627\n",
      "Epoch: 023 | Train ACC: 0.858 | Cost: 0.618\n",
      "Epoch: 024 | Train ACC: 0.858 | Cost: 0.609\n",
      "Epoch: 025 | Train ACC: 0.858 | Cost: 0.601\n",
      "Epoch: 026 | Train ACC: 0.858 | Cost: 0.593\n",
      "Epoch: 027 | Train ACC: 0.858 | Cost: 0.586\n",
      "Epoch: 028 | Train ACC: 0.858 | Cost: 0.579\n",
      "Epoch: 029 | Train ACC: 0.858 | Cost: 0.572\n",
      "Epoch: 030 | Train ACC: 0.858 | Cost: 0.566\n",
      "Epoch: 031 | Train ACC: 0.858 | Cost: 0.560\n",
      "Epoch: 032 | Train ACC: 0.858 | Cost: 0.554\n",
      "Epoch: 033 | Train ACC: 0.858 | Cost: 0.549\n",
      "Epoch: 034 | Train ACC: 0.858 | Cost: 0.543\n",
      "Epoch: 035 | Train ACC: 0.858 | Cost: 0.538\n",
      "Epoch: 036 | Train ACC: 0.858 | Cost: 0.533\n",
      "Epoch: 037 | Train ACC: 0.858 | Cost: 0.529\n",
      "Epoch: 038 | Train ACC: 0.858 | Cost: 0.524\n",
      "Epoch: 039 | Train ACC: 0.858 | Cost: 0.520\n",
      "Epoch: 040 | Train ACC: 0.858 | Cost: 0.516\n",
      "Epoch: 041 | Train ACC: 0.858 | Cost: 0.512\n",
      "Epoch: 042 | Train ACC: 0.858 | Cost: 0.508\n",
      "Epoch: 043 | Train ACC: 0.858 | Cost: 0.504\n",
      "Epoch: 044 | Train ACC: 0.858 | Cost: 0.500\n",
      "Epoch: 045 | Train ACC: 0.858 | Cost: 0.497\n",
      "Epoch: 046 | Train ACC: 0.858 | Cost: 0.494\n",
      "Epoch: 047 | Train ACC: 0.858 | Cost: 0.490\n",
      "Epoch: 048 | Train ACC: 0.858 | Cost: 0.487\n",
      "Epoch: 049 | Train ACC: 0.858 | Cost: 0.484\n",
      "Epoch: 050 | Train ACC: 0.858 | Cost: 0.481\n",
      "\n",
      "Model parameters:\n",
      "  Weights: tensor([[ 0.5582, -1.0240],\n",
      "        [-0.5462,  0.0258],\n",
      "        [-0.0119,  0.9982]], device='cuda:0')\n",
      "  Bias: tensor([-5.1657e-09, -5.1657e-09, -5.1657e-09], device='cuda:0')\n"
     ]
    }
   ],
   "source": [
    "X_train = X_train.to(DEVICE)\n",
    "y_train = y_train.to(DEVICE)\n",
    "\n",
    "model1 = SoftmaxRegression1(num_features=2, num_classes=3)\n",
    "epoch_cost = model1.train(X_train, y_train, \n",
    "                          num_epochs=50,\n",
    "                          learning_rate=0.1)\n",
    "\n",
    "print('\\nModel parameters:')\n",
    "print('  Weights: %s' % model1.weights)\n",
    "print('  Bias: %s' % model1.bias)"
   ]
  },
  {
   "cell_type": "markdown",
   "metadata": {},
   "source": [
    "#### Evaluating the Model"
   ]
  },
  {
   "cell_type": "code",
   "execution_count": 8,
   "metadata": {},
   "outputs": [
    {
     "data": {
      "image/png": "[encoded data removed]",
      "text/plain": [
       "<Figure size 432x288 with 1 Axes>"
      ]
     },
     "metadata": {
      "needs_background": "light"
     },
     "output_type": "display_data"
    }
   ],
   "source": [
    "plt.plot(epoch_cost)\n",
    "plt.ylabel('Log Likelihood Loss')\n",
    "plt.xlabel('Epoch')\n",
    "plt.show()"
   ]
  },
  {
   "cell_type": "code",
   "execution_count": 9,
   "metadata": {},
   "outputs": [
    {
     "name": "stdout",
     "output_type": "stream",
     "text": [
      "Test set accuracy: 80.00%\n"
     ]
    }
   ],
   "source": [
    "X_test = X_test.to(DEVICE)\n",
    "y_test = y_test.to(DEVICE)\n",
    "\n",
    "test_acc = model1.evaluate(X_test, y_test)\n",
    "print('Test set accuracy: %.2f%%' % (test_acc*100))"
   ]
  },
  {
   "cell_type": "markdown",
   "metadata": {},
   "source": [
    "## High-level implementation using the nn.Module API"
   ]
  },
  {
   "cell_type": "code",
   "execution_count": 10,
   "metadata": {},
   "outputs": [],
   "source": [
    "class SoftmaxRegression2(torch.nn.Module):\n",
    "\n",
    "    def __init__(self, num_features, num_classes):\n",
    "        super(SoftmaxRegression2, self).__init__()\n",
    "        self.linear = torch.nn.Linear(num_features, num_classes)\n",
    "        # initialize weights to zeros here,\n",
    "        # since we used zero weights in the\n",
    "        # manual approach\n",
    "        \n",
    "        self.linear.weight.detach().zero_()\n",
    "        self.linear.bias.detach().zero_()\n",
    "        # Note: the trailing underscore\n",
    "        # means \"in-place operation\" in the context\n",
    "        # of PyTorch\n",
    "        \n",
    "    def forward(self, x):\n",
    "        logits = self.linear(x)\n",
    "        probas = F.softmax(logits, dim=1)\n",
    "        return logits, probas\n",
    "\n",
    "model2 = SoftmaxRegression2(num_features=2, num_classes=3).to(DEVICE)\n",
    "optimizer = torch.optim.SGD(model2.parameters(), lr=0.1)"
   ]
  },
  {
   "cell_type": "code",
   "execution_count": 11,
   "metadata": {},
   "outputs": [
    {
     "name": "stdout",
     "output_type": "stream",
     "text": [
      "Epoch: 001 | Train ACC: 0.833 | Cost: 1.055\n",
      "Epoch: 002 | Train ACC: 0.833 | Cost: 1.015\n",
      "Epoch: 003 | Train ACC: 0.833 | Cost: 0.979\n",
      "Epoch: 004 | Train ACC: 0.833 | Cost: 0.945\n",
      "Epoch: 005 | Train ACC: 0.833 | Cost: 0.914\n",
      "Epoch: 006 | Train ACC: 0.833 | Cost: 0.885\n",
      "Epoch: 007 | Train ACC: 0.833 | Cost: 0.859\n",
      "Epoch: 008 | Train ACC: 0.833 | Cost: 0.835\n",
      "Epoch: 009 | Train ACC: 0.833 | Cost: 0.812\n",
      "Epoch: 010 | Train ACC: 0.833 | Cost: 0.791\n",
      "Epoch: 011 | Train ACC: 0.833 | Cost: 0.772\n",
      "Epoch: 012 | Train ACC: 0.833 | Cost: 0.754\n",
      "Epoch: 013 | Train ACC: 0.833 | Cost: 0.737\n",
      "Epoch: 014 | Train ACC: 0.833 | Cost: 0.722\n",
      "Epoch: 015 | Train ACC: 0.833 | Cost: 0.707\n",
      "Epoch: 016 | Train ACC: 0.833 | Cost: 0.693\n",
      "Epoch: 017 | Train ACC: 0.833 | Cost: 0.680\n",
      "Epoch: 018 | Train ACC: 0.833 | Cost: 0.668\n",
      "Epoch: 019 | Train ACC: 0.833 | Cost: 0.657\n",
      "Epoch: 020 | Train ACC: 0.833 | Cost: 0.646\n",
      "Epoch: 021 | Train ACC: 0.842 | Cost: 0.636\n",
      "Epoch: 022 | Train ACC: 0.867 | Cost: 0.627\n",
      "Epoch: 023 | Train ACC: 0.867 | Cost: 0.618\n",
      "Epoch: 024 | Train ACC: 0.867 | Cost: 0.609\n",
      "Epoch: 025 | Train ACC: 0.867 | Cost: 0.601\n",
      "Epoch: 026 | Train ACC: 0.867 | Cost: 0.593\n",
      "Epoch: 027 | Train ACC: 0.858 | Cost: 0.586\n",
      "Epoch: 028 | Train ACC: 0.858 | Cost: 0.579\n",
      "Epoch: 029 | Train ACC: 0.858 | Cost: 0.572\n",
      "Epoch: 030 | Train ACC: 0.858 | Cost: 0.566\n",
      "Epoch: 031 | Train ACC: 0.858 | Cost: 0.560\n",
      "Epoch: 032 | Train ACC: 0.858 | Cost: 0.554\n",
      "Epoch: 033 | Train ACC: 0.858 | Cost: 0.548\n",
      "Epoch: 034 | Train ACC: 0.858 | Cost: 0.543\n",
      "Epoch: 035 | Train ACC: 0.858 | Cost: 0.538\n",
      "Epoch: 036 | Train ACC: 0.858 | Cost: 0.533\n",
      "Epoch: 037 | Train ACC: 0.858 | Cost: 0.528\n",
      "Epoch: 038 | Train ACC: 0.858 | Cost: 0.524\n",
      "Epoch: 039 | Train ACC: 0.858 | Cost: 0.519\n",
      "Epoch: 040 | Train ACC: 0.858 | Cost: 0.515\n",
      "Epoch: 041 | Train ACC: 0.858 | Cost: 0.511\n",
      "Epoch: 042 | Train ACC: 0.858 | Cost: 0.507\n",
      "Epoch: 043 | Train ACC: 0.858 | Cost: 0.503\n",
      "Epoch: 044 | Train ACC: 0.858 | Cost: 0.499\n",
      "Epoch: 045 | Train ACC: 0.858 | Cost: 0.496\n",
      "Epoch: 046 | Train ACC: 0.858 | Cost: 0.492\n",
      "Epoch: 047 | Train ACC: 0.858 | Cost: 0.489\n",
      "Epoch: 048 | Train ACC: 0.858 | Cost: 0.486\n",
      "Epoch: 049 | Train ACC: 0.858 | Cost: 0.483\n",
      "Epoch: 050 | Train ACC: 0.858 | Cost: 0.479\n",
      "\n",
      "Model parameters:\n",
      "  Weights: Parameter containing:\n",
      "tensor([[ 0.5585, -1.0257],\n",
      "        [-0.5483,  0.0316],\n",
      "        [-0.0102,  0.9941]], device='cuda:0', requires_grad=True)\n",
      "  Bias: Parameter containing:\n",
      "tensor([-0.0553,  0.0340,  0.0213], device='cuda:0', requires_grad=True)\n"
     ]
    }
   ],
   "source": [
    "def comp_accuracy(true_labels, pred_labels):\n",
    "    accuracy = torch.sum(true_labels.view(-1).float() == \n",
    "                         pred_labels.float()).item() / true_labels.size(0)\n",
    "    return accuracy\n",
    "\n",
    "\n",
    "\n",
    "X_train = X_train.to(DEVICE)\n",
    "y_train = y_train.to(DEVICE)\n",
    "X_test = X_test.to(DEVICE)\n",
    "y_test = y_test.to(DEVICE)\n",
    "\n",
    "num_epochs = 50\n",
    "for epoch in range(num_epochs):\n",
    "    \n",
    "    #### Compute outputs ####\n",
    "    logits, probas = model2(X_train)\n",
    "    \n",
    "    #### Compute gradients ####\n",
    "    cost = F.cross_entropy(logits, y_train.long())\n",
    "    optimizer.zero_grad()\n",
    "    cost.backward()\n",
    "    \n",
    "    #### Update weights ####  \n",
    "    optimizer.step()\n",
    "    \n",
    "    #### Logging ####      \n",
    "    logits, probas = model2(X_train)\n",
    "    acc = comp_accuracy(y_train, torch.argmax(probas, dim=1))\n",
    "    print('Epoch: %03d' % (epoch + 1), end=\"\")\n",
    "    print(' | Train ACC: %.3f' % acc, end=\"\")\n",
    "    print(' | Cost: %.3f' % F.cross_entropy(logits, y_train.long()))\n",
    "\n",
    "\n",
    "    \n",
    "print('\\nModel parameters:')\n",
    "print('  Weights: %s' % model2.linear.weight)\n",
    "print('  Bias: %s' % model2.linear.bias)"
   ]
  },
  {
   "cell_type": "code",
   "execution_count": 12,
   "metadata": {},
   "outputs": [
    {
     "name": "stdout",
     "output_type": "stream",
     "text": [
      "Test set accuracy: 80.00%\n"
     ]
    }
   ],
   "source": [
    "X_test = X_test.to(DEVICE)\n",
    "y_test = y_test.to(DEVICE)\n",
    "\n",
    "test_acc = model1.evaluate(X_test, y_test)\n",
    "print('Test set accuracy: %.2f%%' % (test_acc*100))"
   ]
  }
 ],
 "metadata": {
  "kernelspec": {
   "display_name": "Python 3",
   "language": "python",
   "name": "python3"
  },
  "language_info": {
   "codemirror_mode": {
    "name": "ipython",
    "version": 3
   },
   "file_extension": ".py",
   "mimetype": "text/x-python",
   "name": "python",
   "nbconvert_exporter": "python",
   "pygments_lexer": "ipython3",
   "version": "3.6.8"
  },
  "toc": {
   "nav_menu": {},
   "number_sections": true,
   "sideBar": true,
   "skip_h1_title": false,
   "title_cell": "Table of Contents",
   "title_sidebar": "Contents",
   "toc_cell": false,
   "toc_position": {},
   "toc_section_display": true,
   "toc_window_display": false
  }
 },
 "nbformat": 4,
 "nbformat_minor": 2
}
