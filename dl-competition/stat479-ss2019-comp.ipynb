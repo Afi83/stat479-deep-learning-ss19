{
 "cells": [
  {
   "cell_type": "markdown",
   "metadata": {},
   "source": [
    "STAT 479: Deep Learning (Spring 2019)  \n",
    "Instructor: Sebastian Raschka (sraschka@wisc.edu)  \n",
    "Course website: http://pages.stat.wisc.edu/~sraschka/teaching/stat479-ss2019/  \n",
    "GitHub repository: https://github.com/rasbt/stat479-deep-learning-ss19\n",
    "\n",
    "---"
   ]
  },
  {
   "cell_type": "code",
   "execution_count": 1,
   "metadata": {},
   "outputs": [
    {
     "name": "stdout",
     "output_type": "stream",
     "text": [
      "Sebastian Raschka \n",
      "\n",
      "CPython 3.6.8\n",
      "IPython 7.2.0\n",
      "\n",
      "matplotlib 3.0.2\n",
      "torch 1.0.0\n",
      "pandas 0.23.4\n",
      "numpy 1.15.4\n",
      "PIL 5.3.0\n"
     ]
    }
   ],
   "source": [
    "%load_ext watermark\n",
    "%watermark -a 'Sebastian Raschka' -v -p matplotlib,torch,pandas,numpy,PIL"
   ]
  },
  {
   "cell_type": "markdown",
   "metadata": {},
   "source": [
    "# STAT479 SS 2019 Deep Learning Competition (Optional)"
   ]
  },
  {
   "cell_type": "markdown",
   "metadata": {},
   "source": [
    "This is an optional competition that you can participate in to test your deep learning skills! There will be no grade or points for this competition, and participation is entirely voluntary.\n",
    "\n",
    "**The winner of this competition will receive a $50 Amazon gift card that you can use for whatever you like :). In case of a tie, the earliest submission (latest submission date is Wed, May 01 11:59 pm) with the best score wins.**\n",
    "\n",
    "You can submit your solution as a single participant or as a group up to 5 students (I will split the amount across the group members then). The winning solution will be the one with the highest test set accuracy. \n",
    "\n",
    "You can change anything you like, including the random seed. The only limitation is that you need to make sure that the results are reproducible as I am going to double-check the winning solution by running the code on my computer. If the results on my computer do not match the results you obtained and is lower than the results of the next solution in the list, I will repeat this procedure for the next solution in the list.\n",
    "\n",
    "You can experiment with your code by exporting it to Python script files. The submitted solution (to Canvas) can be either a Python script file or a Jupyter notebook. However, it has to be a single file that I can run on my computer without installing any additional packages other than the ones I imported above.\n",
    "\n",
    "Please do not forget to share your solution via the Google Form I will provide as I will use this for ranking the answers. **You can submit your scores as often as you like. However, your final score and code submission must be submitted by Wed, May 01 (11:59 pm)**.\n",
    "\n",
    "\n",
    "**NOTE: Because of the relatively large size (~250 Mb), you need to obtain the dataset from the following link: https://sebastianraschka.com/share/stat479-ss2019/dl-competition/competition-data.zip** (should have very fast download speed). Download this .zip archive and place it into the same directory as this Jupyter Notebook. Then unzip it. This folder contains ~150,000 images from 5 different classes split into training, validation, and test subsets (CSV files are already included in the .zip archive).\n",
    "\n",
    "Examples of things you can use and try to use and change are:\n",
    "\n",
    "- Multilayer Perceptrons\n",
    "- Convolutional neural networks\n",
    "- Data normalization\n",
    "- Image augmentation (random crop, shear, rotation, translation ...)\n",
    "- Norm penalties, Dropout, BatchNorm\n",
    "- Different optimization methods\n",
    "- Learning rate, batch size, ...\n",
    "\n",
    "Tip: Do not try to cheat by using the test or validation set as additional model fitting data as I am going to run the final solution against my local dataset to reproduce your results. If you altered the dataset, I would notice ;)."
   ]
  },
  {
   "cell_type": "markdown",
   "metadata": {},
   "source": [
    "## Links\n",
    "\n",
    "- Link to the submission form: https://docs.google.com/forms/d/e/1FAIpQLSfvw_JNsImfW0fZbQhUsM5XYeLGEUOCcKrN1Zyb1R0wQ0hd7g/viewform?usp=sf_link\n",
    "- Link to the current ranking updated live (you can only view it if you are logged into UW-Madison's Google platform, it will be private to others so people without a Wisconsin email address will be unable to view the file): https://docs.google.com/spreadsheets/d/11lsz5AT0p6pkYh9Az8ZWxKPD8SleUkq32mv0keIHnEw/edit?usp=sharing"
   ]
  },
  {
   "cell_type": "code",
   "execution_count": 2,
   "metadata": {},
   "outputs": [],
   "source": [
    "# You should only use the packages already imported below\n",
    "\n",
    "import torch\n",
    "import os\n",
    "import pandas as pd\n",
    "import numpy as np\n",
    "import time\n",
    "from PIL import Image\n",
    "import torchvision\n",
    "import torch\n",
    "from torch.utils.data import Dataset\n",
    "from torchvision import transforms\n",
    "from torch.utils.data import DataLoader\n",
    "import torch.nn.functional as F\n",
    "import matplotlib.pyplot as plt\n",
    "%matplotlib inline"
   ]
  },
  {
   "cell_type": "code",
   "execution_count": 3,
   "metadata": {},
   "outputs": [],
   "source": [
    "# You can modify these two lines\n",
    "RANDOM_SEED = 123\n",
    "DEVICE = torch.device('cuda:0' if torch.cuda.is_available() else 'cpu')"
   ]
  },
  {
   "cell_type": "code",
   "execution_count": 4,
   "metadata": {},
   "outputs": [],
   "source": [
    "# Don't modify the next 2 lines of code. \n",
    "# This makes CUDA code reproducible on different machines when using\n",
    "# convolutions (will explain more in the lecture)\n",
    "if torch.cuda.is_available():\n",
    "    torch.backends.cudnn.deterministic = True"
   ]
  },
  {
   "cell_type": "markdown",
   "metadata": {},
   "source": [
    "# Loading the Dataset"
   ]
  },
  {
   "cell_type": "markdown",
   "metadata": {},
   "source": [
    "The dataset consists of 5 classes:\n",
    "- Drawings of \"basked\" (class 0)\n",
    "- Drawings of \"eye\" (class 1)\n",
    "- Drawings of \"binoculars\" (class 2)\n",
    "- Drawings of \"rabbit\" (class 3)\n",
    "- Drawings of \"hand\" (class 4)\n",
    "\n",
    "(The dataset is based on Google Quickdraw: I wrote a script to fetch the images from the database here: https://quickdraw.withgoogle.com/data)"
   ]
  },
  {
   "cell_type": "code",
   "execution_count": 5,
   "metadata": {},
   "outputs": [
    {
     "name": "stdout",
     "output_type": "stream",
     "text": [
      "Class distribution Train [15000 15000 15000 15000 15000]\n"
     ]
    }
   ],
   "source": [
    "df_train = pd.read_csv('train.csv')\n",
    "print('Class distribution Train', np.bincount(df_train['class_label'].values))"
   ]
  },
  {
   "cell_type": "code",
   "execution_count": 6,
   "metadata": {},
   "outputs": [
    {
     "name": "stdout",
     "output_type": "stream",
     "text": [
      "Class distribution Validation [5000 5000 5000 5000 5000]\n"
     ]
    }
   ],
   "source": [
    "df_valid = pd.read_csv('valid.csv')\n",
    "print('Class distribution Validation', np.bincount(df_valid['class_label'].values))"
   ]
  },
  {
   "cell_type": "code",
   "execution_count": 7,
   "metadata": {},
   "outputs": [
    {
     "name": "stdout",
     "output_type": "stream",
     "text": [
      "Class distribution Test [10000 10000 10000 10000 10000]\n"
     ]
    }
   ],
   "source": [
    "df_test = pd.read_csv('test.csv')\n",
    "print('Class distribution Test', np.bincount(df_test['class_label'].values))"
   ]
  },
  {
   "cell_type": "markdown",
   "metadata": {},
   "source": [
    "The images are 28x28 dimensional (grayscale)."
   ]
  },
  {
   "cell_type": "markdown",
   "metadata": {},
   "source": [
    "Some examples:"
   ]
  },
  {
   "cell_type": "code",
   "execution_count": 8,
   "metadata": {},
   "outputs": [
    {
     "name": "stdout",
     "output_type": "stream",
     "text": [
      "png-files/binoculars/binoculars_000018.png\n"
     ]
    },
    {
     "data": {
      "image/png": "[encoded data removed]",
      "text/plain": [
       "<Figure size 432x288 with 1 Axes>"
      ]
     },
     "metadata": {
      "needs_background": "light"
     },
     "output_type": "display_data"
    },
    {
     "name": "stdout",
     "output_type": "stream",
     "text": [
      "png-files/binoculars/binoculars_000037.png\n"
     ]
    },
    {
     "data": {
      "image/png": "[encoded data removed]",
      "text/plain": [
       "<Figure size 432x288 with 1 Axes>"
      ]
     },
     "metadata": {
      "needs_background": "light"
     },
     "output_type": "display_data"
    },
    {
     "name": "stdout",
     "output_type": "stream",
     "text": [
      "png-files/binoculars/binoculars_046497.png\n"
     ]
    },
    {
     "data": {
      "image/png": "[encoded data removed]",
      "text/plain": [
       "<Figure size 432x288 with 1 Axes>"
      ]
     },
     "metadata": {
      "needs_background": "light"
     },
     "output_type": "display_data"
    }
   ],
   "source": [
    "import glob\n",
    "image_paths = sorted(glob.glob('png-files/binoculars/*.png'))\n",
    "for i in (12, 25, 30000):\n",
    "    im_path = image_paths[i]\n",
    "    print(im_path)\n",
    "    im = Image.open(im_path)\n",
    "    plt.imshow(im)\n",
    "    plt.show()"
   ]
  },
  {
   "cell_type": "code",
   "execution_count": 9,
   "metadata": {},
   "outputs": [
    {
     "name": "stdout",
     "output_type": "stream",
     "text": [
      "png-files/hand/hand_000056.png\n"
     ]
    },
    {
     "data": {
      "image/png": "[encoded data removed]",
      "text/plain": [
       "<Figure size 432x288 with 1 Axes>"
      ]
     },
     "metadata": {
      "needs_background": "light"
     },
     "output_type": "display_data"
    },
    {
     "name": "stdout",
     "output_type": "stream",
     "text": [
      "png-files/hand/hand_000110.png\n"
     ]
    },
    {
     "data": {
      "image/png": "[encoded data removed]",
      "text/plain": [
       "<Figure size 432x288 with 1 Axes>"
      ]
     },
     "metadata": {
      "needs_background": "light"
     },
     "output_type": "display_data"
    },
    {
     "name": "stdout",
     "output_type": "stream",
     "text": [
      "png-files/hand/hand_109395.png\n"
     ]
    },
    {
     "data": {
      "image/png": "[encoded data removed]",
      "text/plain": [
       "<Figure size 432x288 with 1 Axes>"
      ]
     },
     "metadata": {
      "needs_background": "light"
     },
     "output_type": "display_data"
    }
   ],
   "source": [
    "image_paths = sorted(glob.glob('png-files/hand/*.png'))\n",
    "for i in (12, 25, 30000):\n",
    "    im_path = image_paths[i]\n",
    "    print(im_path)\n",
    "    im = Image.open(im_path)\n",
    "    plt.imshow(im)\n",
    "    plt.show()"
   ]
  },
  {
   "cell_type": "code",
   "execution_count": 10,
   "metadata": {},
   "outputs": [],
   "source": [
    "class QuickdrawDataset(Dataset):\n",
    "    \"\"\"Custom Dataset for loading Quickdraw images\"\"\"\n",
    "\n",
    "    def __init__(self, csv_path, img_dir, transform=None):\n",
    "    \n",
    "        df = pd.read_csv(csv_path)\n",
    "        self.img_dir = img_dir\n",
    "        self.img_names = df['relative_path'].values\n",
    "        self.y = df['class_label'].values\n",
    "        self.transform = transform\n",
    "\n",
    "    def __getitem__(self, index):\n",
    "        img = Image.open(os.path.join(self.img_dir,\n",
    "                                      self.img_names[index]))\n",
    "        \n",
    "        if self.transform is not None:\n",
    "            img = self.transform(img)\n",
    "        \n",
    "        label = self.y[index]\n",
    "        return img, label\n",
    "\n",
    "    def __len__(self):\n",
    "        return self.y.shape[0]"
   ]
  },
  {
   "cell_type": "code",
   "execution_count": 11,
   "metadata": {},
   "outputs": [],
   "source": [
    "# Note that transforms.ToTensor()\n",
    "# already divides pixels by 255. internally\n",
    "\n",
    "custom_transform = transforms.Compose([#transforms.Lambda(lambda x: x/255.),\n",
    "                                       transforms.ToTensor()])\n",
    "\n",
    "\n",
    "train_dataset = QuickdrawDataset(csv_path='train.csv',\n",
    "                                 img_dir='png-files/',\n",
    "                                 transform=custom_transform)\n",
    "\n",
    "train_loader = DataLoader(dataset=train_dataset,\n",
    "                          batch_size=128, #### CHANGE IF YOU LIKE\n",
    "                          shuffle=True,\n",
    "                          num_workers=4)\n",
    "\n",
    "\n",
    "valid_dataset = QuickdrawDataset(csv_path='valid.csv',\n",
    "                                 img_dir='png-files/',\n",
    "                                 transform=custom_transform)\n",
    "\n",
    "valid_loader = DataLoader(dataset=valid_dataset,\n",
    "                          batch_size=128,\n",
    "                          shuffle=False,\n",
    "                          num_workers=4)\n",
    "\n",
    "test_dataset = QuickdrawDataset(csv_path='test.csv',\n",
    "                                img_dir='png-files/',\n",
    "                                transform=custom_transform)\n",
    "\n",
    "test_loader = DataLoader(dataset=test_dataset,\n",
    "                         batch_size=128,\n",
    "                         shuffle=False,\n",
    "                         num_workers=4)"
   ]
  },
  {
   "cell_type": "markdown",
   "metadata": {},
   "source": [
    "The cell below just checks if the dataset can be loaded correctly."
   ]
  },
  {
   "cell_type": "code",
   "execution_count": 12,
   "metadata": {},
   "outputs": [
    {
     "name": "stdout",
     "output_type": "stream",
     "text": [
      "Epoch: 1 | Batch index: 0 | Batch size: 128\n",
      "Image shape torch.Size([128, 1, 28, 28])\n",
      "break minibatch for-loop\n",
      "Epoch: 2 | Batch index: 0 | Batch size: 128\n",
      "Image shape torch.Size([128, 1, 28, 28])\n",
      "break minibatch for-loop\n"
     ]
    }
   ],
   "source": [
    "torch.manual_seed(0)\n",
    "\n",
    "num_epochs = 2\n",
    "for epoch in range(num_epochs):\n",
    "\n",
    "    for batch_idx, (x, y) in enumerate(train_loader):\n",
    "        \n",
    "        print('Epoch:', epoch+1, end='')\n",
    "        print(' | Batch index:', batch_idx, end='')\n",
    "        print(' | Batch size:', y.size()[0])\n",
    "        print('Image shape', x.shape)\n",
    "        x = x.to(DEVICE)\n",
    "        y = y.to(DEVICE)\n",
    "        \n",
    "        print('break minibatch for-loop')\n",
    "        break"
   ]
  },
  {
   "cell_type": "markdown",
   "metadata": {},
   "source": [
    "# Multilayer Perceptron Model"
   ]
  },
  {
   "cell_type": "markdown",
   "metadata": {},
   "source": [
    "The cell below contains the multi-layer perceptron model. This is the main section where you want to make changes to the architecture."
   ]
  },
  {
   "cell_type": "code",
   "execution_count": 13,
   "metadata": {},
   "outputs": [],
   "source": [
    "class MLP(torch.nn.Module):\n",
    "\n",
    "    def __init__(self, num_features, num_hidden_1,num_classes):\n",
    "        super(MLP, self).__init__()\n",
    "        \n",
    "        self.num_classes = num_classes\n",
    "    \n",
    "        self.linear_1 = torch.nn.Linear(num_features, num_hidden_1)\n",
    "        self.linear_out = torch.nn.Linear(num_hidden_1, num_classes)\n",
    "        \n",
    "    def forward(self, x):\n",
    "\n",
    "        out = self.linear_1(x)\n",
    "        out = torch.sigmoid(out)\n",
    "        \n",
    "        logits = self.linear_out(out)\n",
    "        probas = F.softmax(logits, dim=1)\n",
    "        return logits, probas\n",
    "\n",
    "    \n",
    "#################################\n",
    "### Model Initialization\n",
    "#################################\n",
    "\n",
    "\n",
    "torch.manual_seed(RANDOM_SEED)\n",
    "\n",
    "model = MLP(num_features=28*28,\n",
    "            num_hidden_1=50,\n",
    "            num_classes=5)\n",
    "\n",
    "model = model.to(DEVICE)\n",
    "\n",
    "optimizer = torch.optim.SGD(model.parameters(), lr=0.05)"
   ]
  },
  {
   "cell_type": "code",
   "execution_count": 14,
   "metadata": {},
   "outputs": [
    {
     "name": "stdout",
     "output_type": "stream",
     "text": [
      "Epoch: 001/025 | Batch 000/586 | Cost: 1.6200\n",
      "Epoch: 001/025 | Batch 050/586 | Cost: 1.5622\n",
      "Epoch: 001/025 | Batch 100/586 | Cost: 1.5071\n",
      "Epoch: 001/025 | Batch 150/586 | Cost: 1.4469\n",
      "Epoch: 001/025 | Batch 200/586 | Cost: 1.3490\n",
      "Epoch: 001/025 | Batch 250/586 | Cost: 1.2703\n",
      "Epoch: 001/025 | Batch 300/586 | Cost: 1.2051\n",
      "Epoch: 001/025 | Batch 350/586 | Cost: 1.0768\n",
      "Epoch: 001/025 | Batch 400/586 | Cost: 1.0429\n",
      "Epoch: 001/025 | Batch 450/586 | Cost: 1.0361\n",
      "Epoch: 001/025 | Batch 500/586 | Cost: 0.9238\n",
      "Epoch: 001/025 | Batch 550/586 | Cost: 0.8900\n",
      "Epoch: 001/025 Train Cost: 0.9083\n",
      "Train Accuracy: 69.645 | Validation Accuracy: 69.916\n",
      "Time elapsed: 0.25 min\n",
      "Epoch: 002/025 | Batch 000/586 | Cost: 0.9584\n",
      "Epoch: 002/025 | Batch 050/586 | Cost: 0.8522\n",
      "Epoch: 002/025 | Batch 100/586 | Cost: 0.8944\n",
      "Epoch: 002/025 | Batch 150/586 | Cost: 0.8053\n",
      "Epoch: 002/025 | Batch 200/586 | Cost: 0.8360\n",
      "Epoch: 002/025 | Batch 250/586 | Cost: 0.8669\n",
      "Epoch: 002/025 | Batch 300/586 | Cost: 0.8938\n",
      "Epoch: 002/025 | Batch 350/586 | Cost: 0.8573\n",
      "Epoch: 002/025 | Batch 400/586 | Cost: 0.7989\n",
      "Epoch: 002/025 | Batch 450/586 | Cost: 0.7578\n",
      "Epoch: 002/025 | Batch 500/586 | Cost: 0.7038\n",
      "Epoch: 002/025 | Batch 550/586 | Cost: 0.7512\n",
      "Epoch: 002/025 Train Cost: 0.7778\n",
      "Train Accuracy: 73.373 | Validation Accuracy: 73.612\n",
      "Time elapsed: 0.50 min\n",
      "Epoch: 003/025 | Batch 000/586 | Cost: 0.7851\n",
      "Epoch: 003/025 | Batch 050/586 | Cost: 0.8741\n",
      "Epoch: 003/025 | Batch 100/586 | Cost: 0.6855\n",
      "Epoch: 003/025 | Batch 150/586 | Cost: 0.8760\n",
      "Epoch: 003/025 | Batch 200/586 | Cost: 0.9972\n",
      "Epoch: 003/025 | Batch 250/586 | Cost: 0.8447\n",
      "Epoch: 003/025 | Batch 300/586 | Cost: 0.8264\n",
      "Epoch: 003/025 | Batch 350/586 | Cost: 0.8147\n",
      "Epoch: 003/025 | Batch 400/586 | Cost: 0.7677\n",
      "Epoch: 003/025 | Batch 450/586 | Cost: 0.8028\n",
      "Epoch: 003/025 | Batch 500/586 | Cost: 0.8373\n",
      "Epoch: 003/025 | Batch 550/586 | Cost: 0.7058\n",
      "Epoch: 003/025 Train Cost: 0.7371\n",
      "Train Accuracy: 74.877 | Validation Accuracy: 75.060\n",
      "Time elapsed: 0.75 min\n",
      "Epoch: 004/025 | Batch 000/586 | Cost: 0.7859\n",
      "Epoch: 004/025 | Batch 050/586 | Cost: 0.7628\n",
      "Epoch: 004/025 | Batch 100/586 | Cost: 0.7289\n",
      "Epoch: 004/025 | Batch 150/586 | Cost: 0.6881\n",
      "Epoch: 004/025 | Batch 200/586 | Cost: 0.6157\n",
      "Epoch: 004/025 | Batch 250/586 | Cost: 0.7850\n",
      "Epoch: 004/025 | Batch 300/586 | Cost: 0.8205\n",
      "Epoch: 004/025 | Batch 350/586 | Cost: 0.6190\n",
      "Epoch: 004/025 | Batch 400/586 | Cost: 0.6211\n",
      "Epoch: 004/025 | Batch 450/586 | Cost: 0.6627\n",
      "Epoch: 004/025 | Batch 500/586 | Cost: 0.6800\n",
      "Epoch: 004/025 | Batch 550/586 | Cost: 0.7405\n",
      "Epoch: 004/025 Train Cost: 0.7163\n",
      "Train Accuracy: 75.601 | Validation Accuracy: 75.680\n",
      "Time elapsed: 0.99 min\n",
      "Epoch: 005/025 | Batch 000/586 | Cost: 0.8027\n",
      "Epoch: 005/025 | Batch 050/586 | Cost: 0.7730\n",
      "Epoch: 005/025 | Batch 100/586 | Cost: 0.7649\n",
      "Epoch: 005/025 | Batch 150/586 | Cost: 0.6739\n",
      "Epoch: 005/025 | Batch 200/586 | Cost: 0.6050\n",
      "Epoch: 005/025 | Batch 250/586 | Cost: 0.8133\n",
      "Epoch: 005/025 | Batch 300/586 | Cost: 0.6931\n",
      "Epoch: 005/025 | Batch 350/586 | Cost: 0.6485\n",
      "Epoch: 005/025 | Batch 400/586 | Cost: 0.7286\n",
      "Epoch: 005/025 | Batch 450/586 | Cost: 0.8406\n",
      "Epoch: 005/025 | Batch 500/586 | Cost: 0.6124\n",
      "Epoch: 005/025 | Batch 550/586 | Cost: 0.9388\n",
      "Epoch: 005/025 Train Cost: 0.7017\n",
      "Train Accuracy: 76.056 | Validation Accuracy: 76.132\n",
      "Time elapsed: 1.24 min\n",
      "Epoch: 006/025 | Batch 000/586 | Cost: 0.7055\n",
      "Epoch: 006/025 | Batch 050/586 | Cost: 0.8944\n",
      "Epoch: 006/025 | Batch 100/586 | Cost: 0.7120\n",
      "Epoch: 006/025 | Batch 150/586 | Cost: 0.6943\n",
      "Epoch: 006/025 | Batch 200/586 | Cost: 0.7837\n",
      "Epoch: 006/025 | Batch 250/586 | Cost: 0.6160\n",
      "Epoch: 006/025 | Batch 300/586 | Cost: 0.6869\n",
      "Epoch: 006/025 | Batch 350/586 | Cost: 0.6462\n",
      "Epoch: 006/025 | Batch 400/586 | Cost: 0.7100\n",
      "Epoch: 006/025 | Batch 450/586 | Cost: 0.6081\n",
      "Epoch: 006/025 | Batch 500/586 | Cost: 0.5125\n",
      "Epoch: 006/025 | Batch 550/586 | Cost: 0.7689\n",
      "Epoch: 006/025 Train Cost: 0.6880\n",
      "Train Accuracy: 76.800 | Validation Accuracy: 76.856\n",
      "Time elapsed: 1.49 min\n",
      "Epoch: 007/025 | Batch 000/586 | Cost: 0.7562\n",
      "Epoch: 007/025 | Batch 050/586 | Cost: 0.7055\n",
      "Epoch: 007/025 | Batch 100/586 | Cost: 0.5434\n",
      "Epoch: 007/025 | Batch 150/586 | Cost: 0.6217\n",
      "Epoch: 007/025 | Batch 200/586 | Cost: 0.7238\n",
      "Epoch: 007/025 | Batch 250/586 | Cost: 0.6048\n",
      "Epoch: 007/025 | Batch 300/586 | Cost: 0.6676\n",
      "Epoch: 007/025 | Batch 350/586 | Cost: 0.6959\n",
      "Epoch: 007/025 | Batch 400/586 | Cost: 0.7201\n",
      "Epoch: 007/025 | Batch 450/586 | Cost: 0.6755\n",
      "Epoch: 007/025 | Batch 500/586 | Cost: 0.6335\n",
      "Epoch: 007/025 | Batch 550/586 | Cost: 0.6657\n",
      "Epoch: 007/025 Train Cost: 0.6749\n",
      "Train Accuracy: 77.405 | Validation Accuracy: 77.460\n",
      "Time elapsed: 1.73 min\n",
      "Epoch: 008/025 | Batch 000/586 | Cost: 0.5592\n",
      "Epoch: 008/025 | Batch 050/586 | Cost: 0.7012\n",
      "Epoch: 008/025 | Batch 100/586 | Cost: 0.6596\n",
      "Epoch: 008/025 | Batch 150/586 | Cost: 0.5826\n",
      "Epoch: 008/025 | Batch 200/586 | Cost: 0.8428\n",
      "Epoch: 008/025 | Batch 250/586 | Cost: 0.6267\n",
      "Epoch: 008/025 | Batch 300/586 | Cost: 0.6072\n",
      "Epoch: 008/025 | Batch 350/586 | Cost: 0.7011\n",
      "Epoch: 008/025 | Batch 400/586 | Cost: 0.8927\n",
      "Epoch: 008/025 | Batch 450/586 | Cost: 0.5327\n",
      "Epoch: 008/025 | Batch 500/586 | Cost: 0.7194\n",
      "Epoch: 008/025 | Batch 550/586 | Cost: 0.8765\n",
      "Epoch: 008/025 Train Cost: 0.6588\n",
      "Train Accuracy: 77.985 | Validation Accuracy: 78.032\n",
      "Time elapsed: 1.98 min\n",
      "Epoch: 009/025 | Batch 000/586 | Cost: 0.7079\n",
      "Epoch: 009/025 | Batch 050/586 | Cost: 0.5365\n",
      "Epoch: 009/025 | Batch 100/586 | Cost: 0.4445\n",
      "Epoch: 009/025 | Batch 150/586 | Cost: 0.6008\n",
      "Epoch: 009/025 | Batch 200/586 | Cost: 0.6839\n",
      "Epoch: 009/025 | Batch 250/586 | Cost: 0.6353\n",
      "Epoch: 009/025 | Batch 300/586 | Cost: 0.6707\n",
      "Epoch: 009/025 | Batch 350/586 | Cost: 0.6162\n",
      "Epoch: 009/025 | Batch 400/586 | Cost: 0.5778\n",
      "Epoch: 009/025 | Batch 450/586 | Cost: 0.5070\n",
      "Epoch: 009/025 | Batch 500/586 | Cost: 0.5441\n",
      "Epoch: 009/025 | Batch 550/586 | Cost: 0.6192\n",
      "Epoch: 009/025 Train Cost: 0.6419\n",
      "Train Accuracy: 78.660 | Validation Accuracy: 78.756\n",
      "Time elapsed: 2.23 min\n",
      "Epoch: 010/025 | Batch 000/586 | Cost: 0.5861\n",
      "Epoch: 010/025 | Batch 050/586 | Cost: 0.5595\n",
      "Epoch: 010/025 | Batch 100/586 | Cost: 0.6641\n",
      "Epoch: 010/025 | Batch 150/586 | Cost: 0.7049\n",
      "Epoch: 010/025 | Batch 200/586 | Cost: 0.6803\n",
      "Epoch: 010/025 | Batch 250/586 | Cost: 0.7093\n",
      "Epoch: 010/025 | Batch 300/586 | Cost: 0.6753\n",
      "Epoch: 010/025 | Batch 350/586 | Cost: 0.5745\n",
      "Epoch: 010/025 | Batch 400/586 | Cost: 0.6071\n",
      "Epoch: 010/025 | Batch 450/586 | Cost: 0.6343\n",
      "Epoch: 010/025 | Batch 500/586 | Cost: 0.6190\n",
      "Epoch: 010/025 | Batch 550/586 | Cost: 0.7210\n",
      "Epoch: 010/025 Train Cost: 0.6265\n",
      "Train Accuracy: 79.247 | Validation Accuracy: 79.328\n",
      "Time elapsed: 2.48 min\n",
      "Epoch: 011/025 | Batch 000/586 | Cost: 0.6957\n",
      "Epoch: 011/025 | Batch 050/586 | Cost: 0.7313\n",
      "Epoch: 011/025 | Batch 100/586 | Cost: 0.6872\n",
      "Epoch: 011/025 | Batch 150/586 | Cost: 0.5103\n",
      "Epoch: 011/025 | Batch 200/586 | Cost: 0.6159\n",
      "Epoch: 011/025 | Batch 250/586 | Cost: 0.6559\n",
      "Epoch: 011/025 | Batch 300/586 | Cost: 0.8467\n",
      "Epoch: 011/025 | Batch 350/586 | Cost: 0.7408\n",
      "Epoch: 011/025 | Batch 400/586 | Cost: 0.5169\n",
      "Epoch: 011/025 | Batch 450/586 | Cost: 0.6078\n",
      "Epoch: 011/025 | Batch 500/586 | Cost: 0.6353\n",
      "Epoch: 011/025 | Batch 550/586 | Cost: 0.5215\n",
      "Epoch: 011/025 Train Cost: 0.6125\n",
      "Train Accuracy: 79.839 | Validation Accuracy: 79.840\n",
      "Time elapsed: 2.73 min\n",
      "Epoch: 012/025 | Batch 000/586 | Cost: 0.4784\n",
      "Epoch: 012/025 | Batch 050/586 | Cost: 0.5942\n",
      "Epoch: 012/025 | Batch 100/586 | Cost: 0.5373\n",
      "Epoch: 012/025 | Batch 150/586 | Cost: 0.6145\n",
      "Epoch: 012/025 | Batch 200/586 | Cost: 0.7595\n",
      "Epoch: 012/025 | Batch 250/586 | Cost: 0.6552\n",
      "Epoch: 012/025 | Batch 300/586 | Cost: 0.5611\n",
      "Epoch: 012/025 | Batch 350/586 | Cost: 0.7232\n",
      "Epoch: 012/025 | Batch 400/586 | Cost: 0.6086\n",
      "Epoch: 012/025 | Batch 450/586 | Cost: 0.6982\n",
      "Epoch: 012/025 | Batch 500/586 | Cost: 0.5451\n",
      "Epoch: 012/025 | Batch 550/586 | Cost: 0.5281\n",
      "Epoch: 012/025 Train Cost: 0.5993\n",
      "Train Accuracy: 80.327 | Validation Accuracy: 80.356\n",
      "Time elapsed: 2.97 min\n",
      "Epoch: 013/025 | Batch 000/586 | Cost: 0.5934\n",
      "Epoch: 013/025 | Batch 050/586 | Cost: 0.5160\n",
      "Epoch: 013/025 | Batch 100/586 | Cost: 0.6492\n",
      "Epoch: 013/025 | Batch 150/586 | Cost: 0.4797\n",
      "Epoch: 013/025 | Batch 200/586 | Cost: 0.5499\n",
      "Epoch: 013/025 | Batch 250/586 | Cost: 0.5450\n",
      "Epoch: 013/025 | Batch 300/586 | Cost: 0.6024\n",
      "Epoch: 013/025 | Batch 350/586 | Cost: 0.5391\n",
      "Epoch: 013/025 | Batch 400/586 | Cost: 0.7644\n",
      "Epoch: 013/025 | Batch 450/586 | Cost: 0.7689\n",
      "Epoch: 013/025 | Batch 500/586 | Cost: 0.5712\n",
      "Epoch: 013/025 | Batch 550/586 | Cost: 0.5429\n",
      "Epoch: 013/025 Train Cost: 0.5851\n",
      "Train Accuracy: 80.989 | Validation Accuracy: 80.904\n",
      "Time elapsed: 3.22 min\n",
      "Epoch: 014/025 | Batch 000/586 | Cost: 0.5723\n",
      "Epoch: 014/025 | Batch 050/586 | Cost: 0.6811\n",
      "Epoch: 014/025 | Batch 100/586 | Cost: 0.5645\n",
      "Epoch: 014/025 | Batch 150/586 | Cost: 0.4827\n",
      "Epoch: 014/025 | Batch 200/586 | Cost: 0.5534\n",
      "Epoch: 014/025 | Batch 250/586 | Cost: 0.5734\n",
      "Epoch: 014/025 | Batch 300/586 | Cost: 0.5887\n",
      "Epoch: 014/025 | Batch 350/586 | Cost: 0.5649\n",
      "Epoch: 014/025 | Batch 400/586 | Cost: 0.5178\n",
      "Epoch: 014/025 | Batch 450/586 | Cost: 0.4958\n",
      "Epoch: 014/025 | Batch 500/586 | Cost: 0.5204\n",
      "Epoch: 014/025 | Batch 550/586 | Cost: 0.5879\n",
      "Epoch: 014/025 Train Cost: 0.5738\n",
      "Train Accuracy: 81.393 | Validation Accuracy: 81.244\n",
      "Time elapsed: 3.47 min\n",
      "Epoch: 015/025 | Batch 000/586 | Cost: 0.4971\n",
      "Epoch: 015/025 | Batch 050/586 | Cost: 0.5550\n",
      "Epoch: 015/025 | Batch 100/586 | Cost: 0.5584\n",
      "Epoch: 015/025 | Batch 150/586 | Cost: 0.6474\n",
      "Epoch: 015/025 | Batch 200/586 | Cost: 0.5101\n",
      "Epoch: 015/025 | Batch 250/586 | Cost: 0.5512\n",
      "Epoch: 015/025 | Batch 300/586 | Cost: 0.5288\n",
      "Epoch: 015/025 | Batch 350/586 | Cost: 0.5624\n",
      "Epoch: 015/025 | Batch 400/586 | Cost: 0.5443\n",
      "Epoch: 015/025 | Batch 450/586 | Cost: 0.6129\n",
      "Epoch: 015/025 | Batch 500/586 | Cost: 0.5947\n",
      "Epoch: 015/025 | Batch 550/586 | Cost: 0.6314\n",
      "Epoch: 015/025 Train Cost: 0.5634\n",
      "Train Accuracy: 81.841 | Validation Accuracy: 81.828\n",
      "Time elapsed: 3.72 min\n",
      "Epoch: 016/025 | Batch 000/586 | Cost: 0.5375\n",
      "Epoch: 016/025 | Batch 050/586 | Cost: 0.4461\n",
      "Epoch: 016/025 | Batch 100/586 | Cost: 0.8196\n",
      "Epoch: 016/025 | Batch 150/586 | Cost: 0.4759\n",
      "Epoch: 016/025 | Batch 200/586 | Cost: 0.5860\n",
      "Epoch: 016/025 | Batch 250/586 | Cost: 0.4738\n",
      "Epoch: 016/025 | Batch 300/586 | Cost: 0.5632\n",
      "Epoch: 016/025 | Batch 350/586 | Cost: 0.7091\n",
      "Epoch: 016/025 | Batch 400/586 | Cost: 0.5722\n",
      "Epoch: 016/025 | Batch 450/586 | Cost: 0.4019\n",
      "Epoch: 016/025 | Batch 500/586 | Cost: 0.5433\n",
      "Epoch: 016/025 | Batch 550/586 | Cost: 0.6619\n",
      "Epoch: 016/025 Train Cost: 0.5533\n",
      "Train Accuracy: 82.255 | Validation Accuracy: 82.188\n",
      "Time elapsed: 3.97 min\n",
      "Epoch: 017/025 | Batch 000/586 | Cost: 0.5485\n",
      "Epoch: 017/025 | Batch 050/586 | Cost: 0.5660\n",
      "Epoch: 017/025 | Batch 100/586 | Cost: 0.5443\n",
      "Epoch: 017/025 | Batch 150/586 | Cost: 0.4675\n",
      "Epoch: 017/025 | Batch 200/586 | Cost: 0.4751\n",
      "Epoch: 017/025 | Batch 250/586 | Cost: 0.5612\n",
      "Epoch: 017/025 | Batch 300/586 | Cost: 0.4416\n",
      "Epoch: 017/025 | Batch 350/586 | Cost: 0.6264\n",
      "Epoch: 017/025 | Batch 400/586 | Cost: 0.6437\n",
      "Epoch: 017/025 | Batch 450/586 | Cost: 0.4816\n",
      "Epoch: 017/025 | Batch 500/586 | Cost: 0.4980\n",
      "Epoch: 017/025 | Batch 550/586 | Cost: 0.5828\n",
      "Epoch: 017/025 Train Cost: 0.5434\n",
      "Train Accuracy: 82.561 | Validation Accuracy: 82.536\n",
      "Time elapsed: 4.22 min\n",
      "Epoch: 018/025 | Batch 000/586 | Cost: 0.6736\n",
      "Epoch: 018/025 | Batch 050/586 | Cost: 0.4355\n",
      "Epoch: 018/025 | Batch 100/586 | Cost: 0.4850\n",
      "Epoch: 018/025 | Batch 150/586 | Cost: 0.5630\n",
      "Epoch: 018/025 | Batch 200/586 | Cost: 0.4302\n",
      "Epoch: 018/025 | Batch 250/586 | Cost: 0.5406\n",
      "Epoch: 018/025 | Batch 300/586 | Cost: 0.4868\n",
      "Epoch: 018/025 | Batch 350/586 | Cost: 0.5949\n",
      "Epoch: 018/025 | Batch 400/586 | Cost: 0.6091\n",
      "Epoch: 018/025 | Batch 450/586 | Cost: 0.4849\n",
      "Epoch: 018/025 | Batch 500/586 | Cost: 0.4219\n",
      "Epoch: 018/025 | Batch 550/586 | Cost: 0.5752\n",
      "Epoch: 018/025 Train Cost: 0.5344\n",
      "Train Accuracy: 82.989 | Validation Accuracy: 82.940\n",
      "Time elapsed: 4.47 min\n",
      "Epoch: 019/025 | Batch 000/586 | Cost: 0.6571\n",
      "Epoch: 019/025 | Batch 050/586 | Cost: 0.4876\n",
      "Epoch: 019/025 | Batch 100/586 | Cost: 0.4738\n",
      "Epoch: 019/025 | Batch 150/586 | Cost: 0.3923\n",
      "Epoch: 019/025 | Batch 200/586 | Cost: 0.6156\n",
      "Epoch: 019/025 | Batch 250/586 | Cost: 0.5607\n",
      "Epoch: 019/025 | Batch 300/586 | Cost: 0.4779\n",
      "Epoch: 019/025 | Batch 350/586 | Cost: 0.4208\n",
      "Epoch: 019/025 | Batch 400/586 | Cost: 0.4795\n",
      "Epoch: 019/025 | Batch 450/586 | Cost: 0.5505\n",
      "Epoch: 019/025 | Batch 500/586 | Cost: 0.4976\n",
      "Epoch: 019/025 | Batch 550/586 | Cost: 0.5529\n",
      "Epoch: 019/025 Train Cost: 0.5254\n",
      "Train Accuracy: 83.324 | Validation Accuracy: 83.180\n",
      "Time elapsed: 4.72 min\n",
      "Epoch: 020/025 | Batch 000/586 | Cost: 0.4636\n",
      "Epoch: 020/025 | Batch 050/586 | Cost: 0.5090\n",
      "Epoch: 020/025 | Batch 100/586 | Cost: 0.4977\n",
      "Epoch: 020/025 | Batch 150/586 | Cost: 0.6111\n",
      "Epoch: 020/025 | Batch 200/586 | Cost: 0.7544\n",
      "Epoch: 020/025 | Batch 250/586 | Cost: 0.5309\n",
      "Epoch: 020/025 | Batch 300/586 | Cost: 0.3389\n",
      "Epoch: 020/025 | Batch 350/586 | Cost: 0.5097\n",
      "Epoch: 020/025 | Batch 400/586 | Cost: 0.5383\n",
      "Epoch: 020/025 | Batch 450/586 | Cost: 0.6968\n",
      "Epoch: 020/025 | Batch 500/586 | Cost: 0.4231\n",
      "Epoch: 020/025 | Batch 550/586 | Cost: 0.4514\n",
      "Epoch: 020/025 Train Cost: 0.5177\n",
      "Train Accuracy: 83.628 | Validation Accuracy: 83.572\n",
      "Time elapsed: 4.97 min\n",
      "Epoch: 021/025 | Batch 000/586 | Cost: 0.4644\n",
      "Epoch: 021/025 | Batch 050/586 | Cost: 0.5244\n",
      "Epoch: 021/025 | Batch 100/586 | Cost: 0.4910\n",
      "Epoch: 021/025 | Batch 150/586 | Cost: 0.4055\n",
      "Epoch: 021/025 | Batch 200/586 | Cost: 0.5504\n",
      "Epoch: 021/025 | Batch 250/586 | Cost: 0.6149\n",
      "Epoch: 021/025 | Batch 300/586 | Cost: 0.5548\n",
      "Epoch: 021/025 | Batch 350/586 | Cost: 0.6826\n",
      "Epoch: 021/025 | Batch 400/586 | Cost: 0.3597\n",
      "Epoch: 021/025 | Batch 450/586 | Cost: 0.5326\n",
      "Epoch: 021/025 | Batch 500/586 | Cost: 0.4272\n",
      "Epoch: 021/025 | Batch 550/586 | Cost: 0.5831\n",
      "Epoch: 021/025 Train Cost: 0.5103\n",
      "Train Accuracy: 83.860 | Validation Accuracy: 83.676\n",
      "Time elapsed: 5.22 min\n",
      "Epoch: 022/025 | Batch 000/586 | Cost: 0.4250\n",
      "Epoch: 022/025 | Batch 050/586 | Cost: 0.4711\n",
      "Epoch: 022/025 | Batch 100/586 | Cost: 0.5052\n",
      "Epoch: 022/025 | Batch 150/586 | Cost: 0.5334\n",
      "Epoch: 022/025 | Batch 200/586 | Cost: 0.4713\n",
      "Epoch: 022/025 | Batch 250/586 | Cost: 0.4190\n",
      "Epoch: 022/025 | Batch 300/586 | Cost: 0.4483\n",
      "Epoch: 022/025 | Batch 350/586 | Cost: 0.4834\n",
      "Epoch: 022/025 | Batch 400/586 | Cost: 0.4802\n",
      "Epoch: 022/025 | Batch 450/586 | Cost: 0.6671\n",
      "Epoch: 022/025 | Batch 500/586 | Cost: 0.5394\n",
      "Epoch: 022/025 | Batch 550/586 | Cost: 0.4712\n",
      "Epoch: 022/025 Train Cost: 0.5017\n",
      "Train Accuracy: 84.167 | Validation Accuracy: 84.020\n",
      "Time elapsed: 5.46 min\n",
      "Epoch: 023/025 | Batch 000/586 | Cost: 0.5419\n",
      "Epoch: 023/025 | Batch 050/586 | Cost: 0.4700\n",
      "Epoch: 023/025 | Batch 100/586 | Cost: 0.6125\n",
      "Epoch: 023/025 | Batch 150/586 | Cost: 0.6069\n",
      "Epoch: 023/025 | Batch 200/586 | Cost: 0.4905\n",
      "Epoch: 023/025 | Batch 250/586 | Cost: 0.6433\n",
      "Epoch: 023/025 | Batch 300/586 | Cost: 0.4544\n",
      "Epoch: 023/025 | Batch 350/586 | Cost: 0.6723\n",
      "Epoch: 023/025 | Batch 400/586 | Cost: 0.5555\n",
      "Epoch: 023/025 | Batch 450/586 | Cost: 0.4319\n",
      "Epoch: 023/025 | Batch 500/586 | Cost: 0.4592\n",
      "Epoch: 023/025 | Batch 550/586 | Cost: 0.4170\n",
      "Epoch: 023/025 Train Cost: 0.4962\n",
      "Train Accuracy: 84.377 | Validation Accuracy: 84.148\n",
      "Time elapsed: 5.71 min\n",
      "Epoch: 024/025 | Batch 000/586 | Cost: 0.5965\n",
      "Epoch: 024/025 | Batch 050/586 | Cost: 0.5766\n",
      "Epoch: 024/025 | Batch 100/586 | Cost: 0.4409\n",
      "Epoch: 024/025 | Batch 150/586 | Cost: 0.4894\n",
      "Epoch: 024/025 | Batch 200/586 | Cost: 0.5287\n",
      "Epoch: 024/025 | Batch 250/586 | Cost: 0.5779\n",
      "Epoch: 024/025 | Batch 300/586 | Cost: 0.6374\n",
      "Epoch: 024/025 | Batch 350/586 | Cost: 0.3473\n",
      "Epoch: 024/025 | Batch 400/586 | Cost: 0.4092\n",
      "Epoch: 024/025 | Batch 450/586 | Cost: 0.4052\n",
      "Epoch: 024/025 | Batch 500/586 | Cost: 0.5179\n",
      "Epoch: 024/025 | Batch 550/586 | Cost: 0.3455\n",
      "Epoch: 024/025 Train Cost: 0.4888\n",
      "Train Accuracy: 84.533 | Validation Accuracy: 84.320\n",
      "Time elapsed: 5.96 min\n",
      "Epoch: 025/025 | Batch 000/586 | Cost: 0.6263\n",
      "Epoch: 025/025 | Batch 050/586 | Cost: 0.4700\n",
      "Epoch: 025/025 | Batch 100/586 | Cost: 0.5055\n",
      "Epoch: 025/025 | Batch 150/586 | Cost: 0.5976\n",
      "Epoch: 025/025 | Batch 200/586 | Cost: 0.6041\n",
      "Epoch: 025/025 | Batch 250/586 | Cost: 0.5976\n",
      "Epoch: 025/025 | Batch 300/586 | Cost: 0.3703\n",
      "Epoch: 025/025 | Batch 350/586 | Cost: 0.4742\n",
      "Epoch: 025/025 | Batch 400/586 | Cost: 0.4174\n",
      "Epoch: 025/025 | Batch 450/586 | Cost: 0.5189\n",
      "Epoch: 025/025 | Batch 500/586 | Cost: 0.4845\n",
      "Epoch: 025/025 | Batch 550/586 | Cost: 0.3894\n",
      "Epoch: 025/025 Train Cost: 0.4825\n",
      "Train Accuracy: 84.805 | Validation Accuracy: 84.424\n",
      "Time elapsed: 6.21 min\n",
      "Total Training Time: 6.21 min\n"
     ]
    }
   ],
   "source": [
    "#################################\n",
    "### Training\n",
    "#################################\n",
    "\n",
    "\n",
    "def compute_epoch_loss(model, data_loader):\n",
    "    curr_loss, num_examples = 0., 0\n",
    "    with torch.no_grad():\n",
    "        for features, targets in data_loader:\n",
    "            features = features.view(-1, 28*28).to(DEVICE)\n",
    "            targets = targets.to(DEVICE)\n",
    "            logits, probas = model(features)\n",
    "            loss = F.cross_entropy(logits, targets, reduction='sum')\n",
    "            num_examples += targets.size(0)\n",
    "            curr_loss += loss\n",
    "\n",
    "        curr_loss = curr_loss / num_examples\n",
    "        return curr_loss\n",
    "\n",
    "\n",
    "################################################\n",
    "# PLEASE DON'T CHANGE THE compute_accuracy\n",
    "# function\n",
    "###############################################\n",
    "    \n",
    "def compute_accuracy(model, data_loader):\n",
    "    correct_pred, num_examples = 0, 0\n",
    "    with torch.no_grad():\n",
    "        for features, targets in data_loader:\n",
    "            features = features.view(-1, 28*28).to(DEVICE)\n",
    "            targets = targets.to(DEVICE)\n",
    "            logits, probas = model.forward(features)\n",
    "            predicted_labels = torch.argmax(probas, 1)\n",
    "            num_examples += targets.size(0)\n",
    "            correct_pred += (predicted_labels == targets).sum()\n",
    "        return correct_pred.float()/num_examples * 100\n",
    "    \n",
    "\n",
    "\n",
    "start_time = time.time()\n",
    "minibatch_cost = []\n",
    "epoch_cost = []\n",
    "\n",
    "\n",
    "NUM_EPOCHS = 25\n",
    "\n",
    "for epoch in range(NUM_EPOCHS):\n",
    "    model.train()\n",
    "    for batch_idx, (features, targets) in enumerate(train_loader):\n",
    "        \n",
    "        features = features.view(-1, 28*28).to(DEVICE)\n",
    "        targets = targets.to(DEVICE)\n",
    "            \n",
    "        ### FORWARD AND BACK PROP\n",
    "        logits, probas = model(features)\n",
    "        \n",
    "        cost = F.cross_entropy(logits, targets)\n",
    "        optimizer.zero_grad()\n",
    "        \n",
    "        cost.backward()\n",
    "        minibatch_cost.append(cost)\n",
    "        ### UPDATE MODEL PARAMETERS\n",
    "        optimizer.step()\n",
    "        \n",
    "        ### LOGGING\n",
    "        if not batch_idx % 50:\n",
    "            print ('Epoch: %03d/%03d | Batch %03d/%03d | Cost: %.4f' \n",
    "                   %(epoch+1, NUM_EPOCHS, batch_idx, \n",
    "                     len(train_loader), cost))\n",
    "        \n",
    "    model.eval()\n",
    "    cost = compute_epoch_loss(model, train_loader)\n",
    "    epoch_cost.append(cost)\n",
    "    \n",
    "    train_accuracy = compute_accuracy(model, train_loader)\n",
    "    valid_accuracy = compute_accuracy(model, valid_loader)\n",
    "    \n",
    "    print('Epoch: %03d/%03d Train Cost: %.4f' % (\n",
    "            epoch+1, NUM_EPOCHS, cost))\n",
    "    print('Train Accuracy: %.3f | Validation Accuracy: %.3f' % (train_accuracy, valid_accuracy))\n",
    "    print('Time elapsed: %.2f min' % ((time.time() - start_time)/60))\n",
    "    \n",
    "print('Total Training Time: %.2f min' % ((time.time() - start_time)/60))"
   ]
  },
  {
   "cell_type": "markdown",
   "metadata": {},
   "source": [
    "# Evaluation (No Need To Change Any Code in This Section!)"
   ]
  },
  {
   "cell_type": "code",
   "execution_count": 15,
   "metadata": {},
   "outputs": [
    {
     "data": {
      "image/png": "[encoded data removed]",
      "text/plain": [
       "<Figure size 432x288 with 1 Axes>"
      ]
     },
     "metadata": {
      "needs_background": "light"
     },
     "output_type": "display_data"
    },
    {
     "data": {
      "image/png": "[encoded data removed]",
      "text/plain": [
       "<Figure size 432x288 with 1 Axes>"
      ]
     },
     "metadata": {
      "needs_background": "light"
     },
     "output_type": "display_data"
    }
   ],
   "source": [
    "plt.plot(range(len(minibatch_cost)), minibatch_cost)\n",
    "plt.ylabel('Cross Entropy')\n",
    "plt.xlabel('Minibatch')\n",
    "plt.show()\n",
    "\n",
    "plt.plot(range(len(epoch_cost)), epoch_cost)\n",
    "plt.ylabel('Cross Entropy')\n",
    "plt.xlabel('Epoch')\n",
    "plt.show()"
   ]
  },
  {
   "cell_type": "code",
   "execution_count": 16,
   "metadata": {},
   "outputs": [
    {
     "name": "stdout",
     "output_type": "stream",
     "text": [
      "Test Accuracy: 84.13\n"
     ]
    }
   ],
   "source": [
    "print('Test Accuracy: %.2f' % compute_accuracy(model, test_loader))"
   ]
  },
  {
   "cell_type": "markdown",
   "metadata": {},
   "source": [
    "# Answer Required"
   ]
  },
  {
   "cell_type": "markdown",
   "metadata": {},
   "source": [
    "Summarize your final architecture and settings in a short paragraph."
   ]
  },
  {
   "cell_type": "code",
   "execution_count": null,
   "metadata": {},
   "outputs": [],
   "source": []
  }
 ],
 "metadata": {
  "kernelspec": {
   "display_name": "Python 3",
   "language": "python",
   "name": "python3"
  },
  "language_info": {
   "codemirror_mode": {
    "name": "ipython",
    "version": 3
   },
   "file_extension": ".py",
   "mimetype": "text/x-python",
   "name": "python",
   "nbconvert_exporter": "python",
   "pygments_lexer": "ipython3",
   "version": "3.6.5"
  },
  "toc": {
   "base_numbering": 1,
   "nav_menu": {},
   "number_sections": true,
   "sideBar": true,
   "skip_h1_title": false,
   "title_cell": "Table of Contents",
   "title_sidebar": "Contents",
   "toc_cell": false,
   "toc_position": {},
   "toc_section_display": true,
   "toc_window_display": false
  }
 },
 "nbformat": 4,
 "nbformat_minor": 2
}
